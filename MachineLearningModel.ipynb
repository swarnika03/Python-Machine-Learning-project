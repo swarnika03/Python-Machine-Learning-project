{
  "nbformat": 4,
  "nbformat_minor": 0,
  "metadata": {
    "colab": {
      "provenance": [],
      "include_colab_link": true
    },
    "kernelspec": {
      "name": "python3",
      "display_name": "Python 3"
    },
    "language_info": {
      "name": "python"
    }
  },
  "cells": [
    {
      "cell_type": "markdown",
      "metadata": {
        "id": "view-in-github",
        "colab_type": "text"
      },
      "source": [
        "<a href=\"https://colab.research.google.com/github/swarnika03/pythonpro/blob/master/MachineLearningModel.ipynb\" target=\"_parent\"><img src=\"https://colab.research.google.com/assets/colab-badge.svg\" alt=\"Open In Colab\"/></a>"
      ]
    },
    {
      "cell_type": "code",
      "execution_count": null,
      "metadata": {
        "colab": {
          "base_uri": "https://localhost:8080/",
          "height": 73
        },
        "id": "FwIF_kjQKuuQ",
        "outputId": "023521ed-404d-4886-ae36-0d848acb5512"
      },
      "outputs": [
        {
          "output_type": "display_data",
          "data": {
            "text/plain": [
              "<IPython.core.display.HTML object>"
            ],
            "text/html": [
              "\n",
              "     <input type=\"file\" id=\"files-eec124ce-2f41-4dab-bdec-ef10746035b1\" name=\"files[]\" multiple disabled\n",
              "        style=\"border:none\" />\n",
              "     <output id=\"result-eec124ce-2f41-4dab-bdec-ef10746035b1\">\n",
              "      Upload widget is only available when the cell has been executed in the\n",
              "      current browser session. Please rerun this cell to enable.\n",
              "      </output>\n",
              "      <script>// Copyright 2017 Google LLC\n",
              "//\n",
              "// Licensed under the Apache License, Version 2.0 (the \"License\");\n",
              "// you may not use this file except in compliance with the License.\n",
              "// You may obtain a copy of the License at\n",
              "//\n",
              "//      http://www.apache.org/licenses/LICENSE-2.0\n",
              "//\n",
              "// Unless required by applicable law or agreed to in writing, software\n",
              "// distributed under the License is distributed on an \"AS IS\" BASIS,\n",
              "// WITHOUT WARRANTIES OR CONDITIONS OF ANY KIND, either express or implied.\n",
              "// See the License for the specific language governing permissions and\n",
              "// limitations under the License.\n",
              "\n",
              "/**\n",
              " * @fileoverview Helpers for google.colab Python module.\n",
              " */\n",
              "(function(scope) {\n",
              "function span(text, styleAttributes = {}) {\n",
              "  const element = document.createElement('span');\n",
              "  element.textContent = text;\n",
              "  for (const key of Object.keys(styleAttributes)) {\n",
              "    element.style[key] = styleAttributes[key];\n",
              "  }\n",
              "  return element;\n",
              "}\n",
              "\n",
              "// Max number of bytes which will be uploaded at a time.\n",
              "const MAX_PAYLOAD_SIZE = 100 * 1024;\n",
              "\n",
              "function _uploadFiles(inputId, outputId) {\n",
              "  const steps = uploadFilesStep(inputId, outputId);\n",
              "  const outputElement = document.getElementById(outputId);\n",
              "  // Cache steps on the outputElement to make it available for the next call\n",
              "  // to uploadFilesContinue from Python.\n",
              "  outputElement.steps = steps;\n",
              "\n",
              "  return _uploadFilesContinue(outputId);\n",
              "}\n",
              "\n",
              "// This is roughly an async generator (not supported in the browser yet),\n",
              "// where there are multiple asynchronous steps and the Python side is going\n",
              "// to poll for completion of each step.\n",
              "// This uses a Promise to block the python side on completion of each step,\n",
              "// then passes the result of the previous step as the input to the next step.\n",
              "function _uploadFilesContinue(outputId) {\n",
              "  const outputElement = document.getElementById(outputId);\n",
              "  const steps = outputElement.steps;\n",
              "\n",
              "  const next = steps.next(outputElement.lastPromiseValue);\n",
              "  return Promise.resolve(next.value.promise).then((value) => {\n",
              "    // Cache the last promise value to make it available to the next\n",
              "    // step of the generator.\n",
              "    outputElement.lastPromiseValue = value;\n",
              "    return next.value.response;\n",
              "  });\n",
              "}\n",
              "\n",
              "/**\n",
              " * Generator function which is called between each async step of the upload\n",
              " * process.\n",
              " * @param {string} inputId Element ID of the input file picker element.\n",
              " * @param {string} outputId Element ID of the output display.\n",
              " * @return {!Iterable<!Object>} Iterable of next steps.\n",
              " */\n",
              "function* uploadFilesStep(inputId, outputId) {\n",
              "  const inputElement = document.getElementById(inputId);\n",
              "  inputElement.disabled = false;\n",
              "\n",
              "  const outputElement = document.getElementById(outputId);\n",
              "  outputElement.innerHTML = '';\n",
              "\n",
              "  const pickedPromise = new Promise((resolve) => {\n",
              "    inputElement.addEventListener('change', (e) => {\n",
              "      resolve(e.target.files);\n",
              "    });\n",
              "  });\n",
              "\n",
              "  const cancel = document.createElement('button');\n",
              "  inputElement.parentElement.appendChild(cancel);\n",
              "  cancel.textContent = 'Cancel upload';\n",
              "  const cancelPromise = new Promise((resolve) => {\n",
              "    cancel.onclick = () => {\n",
              "      resolve(null);\n",
              "    };\n",
              "  });\n",
              "\n",
              "  // Wait for the user to pick the files.\n",
              "  const files = yield {\n",
              "    promise: Promise.race([pickedPromise, cancelPromise]),\n",
              "    response: {\n",
              "      action: 'starting',\n",
              "    }\n",
              "  };\n",
              "\n",
              "  cancel.remove();\n",
              "\n",
              "  // Disable the input element since further picks are not allowed.\n",
              "  inputElement.disabled = true;\n",
              "\n",
              "  if (!files) {\n",
              "    return {\n",
              "      response: {\n",
              "        action: 'complete',\n",
              "      }\n",
              "    };\n",
              "  }\n",
              "\n",
              "  for (const file of files) {\n",
              "    const li = document.createElement('li');\n",
              "    li.append(span(file.name, {fontWeight: 'bold'}));\n",
              "    li.append(span(\n",
              "        `(${file.type || 'n/a'}) - ${file.size} bytes, ` +\n",
              "        `last modified: ${\n",
              "            file.lastModifiedDate ? file.lastModifiedDate.toLocaleDateString() :\n",
              "                                    'n/a'} - `));\n",
              "    const percent = span('0% done');\n",
              "    li.appendChild(percent);\n",
              "\n",
              "    outputElement.appendChild(li);\n",
              "\n",
              "    const fileDataPromise = new Promise((resolve) => {\n",
              "      const reader = new FileReader();\n",
              "      reader.onload = (e) => {\n",
              "        resolve(e.target.result);\n",
              "      };\n",
              "      reader.readAsArrayBuffer(file);\n",
              "    });\n",
              "    // Wait for the data to be ready.\n",
              "    let fileData = yield {\n",
              "      promise: fileDataPromise,\n",
              "      response: {\n",
              "        action: 'continue',\n",
              "      }\n",
              "    };\n",
              "\n",
              "    // Use a chunked sending to avoid message size limits. See b/62115660.\n",
              "    let position = 0;\n",
              "    do {\n",
              "      const length = Math.min(fileData.byteLength - position, MAX_PAYLOAD_SIZE);\n",
              "      const chunk = new Uint8Array(fileData, position, length);\n",
              "      position += length;\n",
              "\n",
              "      const base64 = btoa(String.fromCharCode.apply(null, chunk));\n",
              "      yield {\n",
              "        response: {\n",
              "          action: 'append',\n",
              "          file: file.name,\n",
              "          data: base64,\n",
              "        },\n",
              "      };\n",
              "\n",
              "      let percentDone = fileData.byteLength === 0 ?\n",
              "          100 :\n",
              "          Math.round((position / fileData.byteLength) * 100);\n",
              "      percent.textContent = `${percentDone}% done`;\n",
              "\n",
              "    } while (position < fileData.byteLength);\n",
              "  }\n",
              "\n",
              "  // All done.\n",
              "  yield {\n",
              "    response: {\n",
              "      action: 'complete',\n",
              "    }\n",
              "  };\n",
              "}\n",
              "\n",
              "scope.google = scope.google || {};\n",
              "scope.google.colab = scope.google.colab || {};\n",
              "scope.google.colab._files = {\n",
              "  _uploadFiles,\n",
              "  _uploadFilesContinue,\n",
              "};\n",
              "})(self);\n",
              "</script> "
            ]
          },
          "metadata": {}
        },
        {
          "output_type": "stream",
          "name": "stdout",
          "text": [
            "Saving Virtual Screening data.csv to Virtual Screening data.csv\n"
          ]
        }
      ],
      "source": [
        "from google.colab import files\n",
        "uploaded = files.upload()"
      ]
    },
    {
      "cell_type": "markdown",
      "source": [
        "Uploading Data to Colab"
      ],
      "metadata": {
        "id": "k5TFu9VhL8cx"
      }
    },
    {
      "cell_type": "code",
      "execution_count": null,
      "metadata": {
        "colab": {
          "base_uri": "https://localhost:8080/"
        },
        "id": "873c89a6-aabd-4b12-bffd-6d73b35f9f3a",
        "outputId": "032db9ff-d5ce-4657-8771-90e6ba29569f"
      },
      "outputs": [
        {
          "output_type": "stream",
          "name": "stdout",
          "text": [
            "<class 'pandas.core.frame.DataFrame'>\n",
            "RangeIndex: 15780 entries, 0 to 15779\n",
            "Data columns (total 47 columns):\n",
            " #   Column                      Non-Null Count  Dtype  \n",
            "---  ------                      --------------  -----  \n",
            " 0   Molecule ChEMBL ID          15780 non-null  object \n",
            " 1   Molecule Name               2105 non-null   object \n",
            " 2   Molecule Max Phase          1905 non-null   float64\n",
            " 3   Molecular Weight            15769 non-null  float64\n",
            " 4   #RO5 Violations             15701 non-null  float64\n",
            " 5   AlogP                       15701 non-null  float64\n",
            " 6   Compound Key                15780 non-null  object \n",
            " 7   Smiles                      15748 non-null  object \n",
            " 8   Standard Type               15780 non-null  object \n",
            " 9   Standard Relation           13904 non-null  object \n",
            " 10  Standard Value              13910 non-null  float64\n",
            " 11  Standard Units              13911 non-null  object \n",
            " 12  pChEMBL Value               9594 non-null   float64\n",
            " 13  Data Validity Comment       345 non-null    object \n",
            " 14  Comment                     2353 non-null   object \n",
            " 15  Uo Units                    13908 non-null  object \n",
            " 16  Ligand Efficiency BEI       8593 non-null   float64\n",
            " 17  Ligand Efficiency LE        8583 non-null   float64\n",
            " 18  Ligand Efficiency LLE       8583 non-null   float64\n",
            " 19  Ligand Efficiency SEI       8577 non-null   float64\n",
            " 20  Potential Duplicate         15780 non-null  int64  \n",
            " 21  Assay ChEMBL ID             15780 non-null  object \n",
            " 22  Assay Description           15780 non-null  object \n",
            " 23  Assay Type                  15780 non-null  object \n",
            " 24  BAO Format ID               15780 non-null  object \n",
            " 25  BAO Label                   15780 non-null  object \n",
            " 26  Assay Organism              14652 non-null  object \n",
            " 27  Assay Tissue ChEMBL ID      4 non-null      object \n",
            " 28  Assay Tissue Name           4 non-null      object \n",
            " 29  Assay Cell Type             6743 non-null   object \n",
            " 30  Assay Subcellular Fraction  946 non-null    object \n",
            " 31  Assay Parameters            3 non-null      object \n",
            " 32  Assay Variant Accession     28 non-null     object \n",
            " 33  Assay Variant Mutation      28 non-null     object \n",
            " 34  Target ChEMBL ID            15780 non-null  object \n",
            " 35  Target Name                 15780 non-null  object \n",
            " 36  Target Organism             15780 non-null  object \n",
            " 37  Target Type                 15780 non-null  object \n",
            " 38  Document ChEMBL ID          15780 non-null  object \n",
            " 39  Source ID                   15780 non-null  int64  \n",
            " 40  Source Description          15780 non-null  object \n",
            " 41  Document Journal            14234 non-null  object \n",
            " 42  Document Year               14782 non-null  float64\n",
            " 43  Cell ChEMBL ID              5414 non-null   object \n",
            " 44  Properties                  336 non-null    object \n",
            " 45  Action Type                 1395 non-null   object \n",
            " 46  Standard Text Value         0 non-null      float64\n",
            "dtypes: float64(12), int64(2), object(33)\n",
            "memory usage: 5.7+ MB\n"
          ]
        },
        {
          "output_type": "execute_result",
          "data": {
            "text/plain": [
              "(None,\n",
              "   Molecule ChEMBL ID Molecule Name  Molecule Max Phase  Molecular Weight  \\\n",
              " 0      CHEMBL2447962           NaN                 NaN            324.90   \n",
              " 1          CHEMBL473    DOFETILIDE                 4.0            441.58   \n",
              " 2           CHEMBL85   RISPERIDONE                 4.0            410.49   \n",
              " 3      CHEMBL1818825           NaN                 NaN            429.40   \n",
              " 4      CHEMBL3233190           NaN                 NaN            577.69   \n",
              " \n",
              "    #RO5 Violations  AlogP            Compound Key  \\\n",
              " 0              0.0   3.90  Dextro-(R)-bupivacaine   \n",
              " 1              0.0   1.98              Dofetilide   \n",
              " 2              0.0   3.59             Risperidone   \n",
              " 3              0.0   4.39                      35   \n",
              " 4              1.0   4.27                      14   \n",
              " \n",
              "                                               Smiles Standard Type  \\\n",
              " 0             CCCCN1CCCC[C@@H]1C(=O)Nc1c(C)cccc1C.Cl          IC50   \n",
              " 1  CN(CCOc1ccc(NS(C)(=O)=O)cc1)CCc1ccc(NS(C)(=O)=...          IC50   \n",
              " 2  Cc1nc2n(c(=O)c1CCN1CCC(c3noc4cc(F)ccc34)CC1)CCCC2          IC50   \n",
              " 3  COc1cc(-c2cn(Cc3cccc(OC(F)(F)F)c3)nn2)ccc1-n1c...          IC50   \n",
              " 4  CC(C)N(C)[C@@H]1CC[C@H](N2CC[C@H](NC(=O)c3cc(F...          IC50   \n",
              " \n",
              "   Standard Relation  ...     Target Type Document ChEMBL ID  Source ID  \\\n",
              " 0               '='  ...  SINGLE PROTEIN      CHEMBL1817657          1   \n",
              " 1               '='  ...  SINGLE PROTEIN      CHEMBL3430321          1   \n",
              " 2               '='  ...  SINGLE PROTEIN      CHEMBL3430321          1   \n",
              " 3               '='  ...  SINGLE PROTEIN      CHEMBL1817592          1   \n",
              " 4               '>'  ...  SINGLE PROTEIN      CHEMBL3232853          1   \n",
              " \n",
              "       Source Description      Document Journal Document Year  Cell ChEMBL ID  \\\n",
              " 0  Scientific Literature        Eur J Med Chem        2011.0   CHEMBL3307715   \n",
              " 1  Scientific Literature        Cardiovasc Res        2011.0             NaN   \n",
              " 2  Scientific Literature        Cardiovasc Res        2011.0             NaN   \n",
              " 3  Scientific Literature  Bioorg Med Chem Lett        2011.0             NaN   \n",
              " 4  Scientific Literature  Bioorg Med Chem Lett        2014.0             NaN   \n",
              " \n",
              "    Properties  Action Type  Standard Text Value  \n",
              " 0         NaN          NaN                  NaN  \n",
              " 1         NaN          NaN                  NaN  \n",
              " 2         NaN          NaN                  NaN  \n",
              " 3         NaN          NaN                  NaN  \n",
              " 4         NaN          NaN                  NaN  \n",
              " \n",
              " [5 rows x 47 columns])"
            ]
          },
          "metadata": {},
          "execution_count": 2
        }
      ],
      "source": [
        "import pandas as pd\n",
        "\n",
        "# Loading the dataset\n",
        "df = pd.read_csv('Virtual Screening data.csv', delimiter=';')\n",
        "\n",
        "# Displaying the first few rows and column information to understand the structure of the data\n",
        "data_info = df.info()\n",
        "data_head = df.head()\n",
        "\n",
        "data_info, data_head"
      ]
    },
    {
      "cell_type": "markdown",
      "source": [
        "Missing Data Calculation"
      ],
      "metadata": {
        "id": "TZiOKPs9Lw6Q"
      }
    },
    {
      "cell_type": "code",
      "source": [
        "missing_data = df.isnull().sum()\n",
        "print(missing_data[missing_data > 0])"
      ],
      "metadata": {
        "colab": {
          "base_uri": "https://localhost:8080/"
        },
        "id": "6FLEXwK9Ll-0",
        "outputId": "2f725e50-7fae-480d-c33d-a0bf738c26b4"
      },
      "execution_count": null,
      "outputs": [
        {
          "output_type": "stream",
          "name": "stdout",
          "text": [
            "Molecule Name                 13675\n",
            "Molecule Max Phase            13875\n",
            "Molecular Weight                 11\n",
            "#RO5 Violations                  79\n",
            "AlogP                            79\n",
            "Smiles                           32\n",
            "Standard Relation              1876\n",
            "Standard Value                 1870\n",
            "Standard Units                 1869\n",
            "pChEMBL Value                  6186\n",
            "Data Validity Comment         15435\n",
            "Comment                       13427\n",
            "Uo Units                       1872\n",
            "Ligand Efficiency BEI          7187\n",
            "Ligand Efficiency LE           7197\n",
            "Ligand Efficiency LLE          7197\n",
            "Ligand Efficiency SEI          7203\n",
            "Assay Organism                 1128\n",
            "Assay Tissue ChEMBL ID        15776\n",
            "Assay Tissue Name             15776\n",
            "Assay Cell Type                9037\n",
            "Assay Subcellular Fraction    14834\n",
            "Assay Parameters              15777\n",
            "Assay Variant Accession       15752\n",
            "Assay Variant Mutation        15752\n",
            "Document Journal               1546\n",
            "Document Year                   998\n",
            "Cell ChEMBL ID                10366\n",
            "Properties                    15444\n",
            "Action Type                   14385\n",
            "Standard Text Value           15780\n",
            "dtype: int64\n"
          ]
        }
      ]
    },
    {
      "cell_type": "markdown",
      "source": [
        "# **Data Handling**"
      ],
      "metadata": {
        "id": "nw5niUPFMhVk"
      }
    },
    {
      "cell_type": "markdown",
      "source": [
        "\n",
        "\n",
        "*   Dropping Unnecessary Columns\n",
        "\n",
        "\n"
      ],
      "metadata": {
        "id": "IZ5iC3U2Mcce"
      }
    },
    {
      "cell_type": "code",
      "source": [
        "# Column names needed to be dropped\n",
        "columns_to_drop = ['Molecule Name', 'Molecule Max Phase', 'Data Validity Comment', 'Comment', 'Uo Units', 'Assay Tissue ChEMBL ID', 'Assay Tissue Name', 'Assay Parameters', 'Assay Variant Accession', 'Assay Variant Mutation', 'Cell ChEMBL ID', 'Properties', 'Standard Text Value', 'Standard Relation', 'Action Type', 'Assay Subcellular Fraction', 'Assay Cell Type', 'Document Journal', 'Document Year']  # Replace with your column names\n",
        "\n",
        "# Dropping the columns\n",
        "df_dropped = df.drop(columns=columns_to_drop, inplace=True)"
      ],
      "metadata": {
        "id": "1o1Ig1VZMGVP"
      },
      "execution_count": null,
      "outputs": []
    },
    {
      "cell_type": "code",
      "source": [
        "# Column names needed to be dropped\n",
        "columns_drop = ['Compound Key', 'Potential Duplicate', 'BAO Label', 'Document ChEMBL ID', 'Source ID', 'Source Description']  # Replace with your column names\n",
        "\n",
        "# Dropping the columns\n",
        "df_dropped_data = df.drop(columns=columns_drop, inplace=True)"
      ],
      "metadata": {
        "id": "QlxcSwUKNOKn"
      },
      "execution_count": null,
      "outputs": []
    },
    {
      "cell_type": "code",
      "source": [
        "# Displaying information about the DataFrame\n",
        "print(df.info())"
      ],
      "metadata": {
        "colab": {
          "base_uri": "https://localhost:8080/"
        },
        "id": "Vl_1n9KcNlGG",
        "outputId": "9abe56c7-c6a2-4b93-bdce-27f440227c79"
      },
      "execution_count": null,
      "outputs": [
        {
          "output_type": "stream",
          "name": "stdout",
          "text": [
            "<class 'pandas.core.frame.DataFrame'>\n",
            "RangeIndex: 15780 entries, 0 to 15779\n",
            "Data columns (total 22 columns):\n",
            " #   Column                 Non-Null Count  Dtype  \n",
            "---  ------                 --------------  -----  \n",
            " 0   Molecule ChEMBL ID     15780 non-null  object \n",
            " 1   Molecular Weight       15769 non-null  float64\n",
            " 2   #RO5 Violations        15701 non-null  float64\n",
            " 3   AlogP                  15701 non-null  float64\n",
            " 4   Smiles                 15748 non-null  object \n",
            " 5   Standard Type          15780 non-null  object \n",
            " 6   Standard Value         13910 non-null  float64\n",
            " 7   Standard Units         13911 non-null  object \n",
            " 8   pChEMBL Value          9594 non-null   float64\n",
            " 9   Ligand Efficiency BEI  8593 non-null   float64\n",
            " 10  Ligand Efficiency LE   8583 non-null   float64\n",
            " 11  Ligand Efficiency LLE  8583 non-null   float64\n",
            " 12  Ligand Efficiency SEI  8577 non-null   float64\n",
            " 13  Assay ChEMBL ID        15780 non-null  object \n",
            " 14  Assay Description      15780 non-null  object \n",
            " 15  Assay Type             15780 non-null  object \n",
            " 16  BAO Format ID          15780 non-null  object \n",
            " 17  Assay Organism         14652 non-null  object \n",
            " 18  Target ChEMBL ID       15780 non-null  object \n",
            " 19  Target Name            15780 non-null  object \n",
            " 20  Target Organism        15780 non-null  object \n",
            " 21  Target Type            15780 non-null  object \n",
            "dtypes: float64(9), object(13)\n",
            "memory usage: 2.6+ MB\n",
            "None\n"
          ]
        }
      ]
    },
    {
      "cell_type": "markdown",
      "source": [
        "\n",
        "\n",
        "*   Analysing the necessary data for imputation\n",
        "\n"
      ],
      "metadata": {
        "id": "3uO2QXCJONav"
      }
    },
    {
      "cell_type": "code",
      "source": [
        "# Displaying summary statistics\n",
        "summary = df[['Ligand Efficiency BEI', 'Ligand Efficiency LE', 'Ligand Efficiency LLE', 'Ligand Efficiency SEI']].describe()\n",
        "print(summary)\n",
        "\n",
        "# Displaying count of missing values\n",
        "missing_counts = df[['Ligand Efficiency BEI', 'Ligand Efficiency LE', 'Ligand Efficiency LLE', 'Ligand Efficiency SEI']].isnull().sum()\n",
        "print(\"\\nMissing values count:\\n\", missing_counts)"
      ],
      "metadata": {
        "colab": {
          "base_uri": "https://localhost:8080/"
        },
        "id": "OSdNL2KdNtYO",
        "outputId": "c3e040f4-b449-4066-bc40-51b3900722af"
      },
      "execution_count": null,
      "outputs": [
        {
          "output_type": "stream",
          "name": "stdout",
          "text": [
            "       Ligand Efficiency BEI  Ligand Efficiency LE  Ligand Efficiency LLE  \\\n",
            "count            8593.000000           8583.000000            8583.000000   \n",
            "mean               12.970272              0.248955               1.519936   \n",
            "std                 3.310803              0.064256               1.389629   \n",
            "min                 4.290000              0.100000              -5.520000   \n",
            "25%                10.650000              0.200000               0.700000   \n",
            "50%                12.380000              0.240000               1.510000   \n",
            "75%                14.680000              0.280000               2.360000   \n",
            "max                37.760000              0.680000               6.750000   \n",
            "\n",
            "       Ligand Efficiency SEI  \n",
            "count            8577.000000  \n",
            "mean               11.272179  \n",
            "std                17.686051  \n",
            "min                 2.050000  \n",
            "25%                 5.450000  \n",
            "50%                 7.550000  \n",
            "75%                10.960000  \n",
            "max               258.230000  \n",
            "\n",
            "Missing values count:\n",
            " Ligand Efficiency BEI    7187\n",
            "Ligand Efficiency LE     7197\n",
            "Ligand Efficiency LLE    7197\n",
            "Ligand Efficiency SEI    7203\n",
            "dtype: int64\n"
          ]
        }
      ]
    },
    {
      "cell_type": "code",
      "source": [
        "# Installing the necessary library for imputation\n",
        "!pip install scikit-learn"
      ],
      "metadata": {
        "colab": {
          "base_uri": "https://localhost:8080/"
        },
        "id": "Sm_i4RFdOrvg",
        "outputId": "20264cc5-8dac-45bf-e5ae-7d9117337dfc"
      },
      "execution_count": null,
      "outputs": [
        {
          "output_type": "stream",
          "name": "stdout",
          "text": [
            "Requirement already satisfied: scikit-learn in /usr/local/lib/python3.10/dist-packages (1.3.2)\n",
            "Requirement already satisfied: numpy<2.0,>=1.17.3 in /usr/local/lib/python3.10/dist-packages (from scikit-learn) (1.26.4)\n",
            "Requirement already satisfied: scipy>=1.5.0 in /usr/local/lib/python3.10/dist-packages (from scikit-learn) (1.13.1)\n",
            "Requirement already satisfied: joblib>=1.1.1 in /usr/local/lib/python3.10/dist-packages (from scikit-learn) (1.4.2)\n",
            "Requirement already satisfied: threadpoolctl>=2.0.0 in /usr/local/lib/python3.10/dist-packages (from scikit-learn) (3.5.0)\n"
          ]
        }
      ]
    },
    {
      "cell_type": "markdown",
      "source": [
        "\n",
        "\n",
        "*   Imputing columns\n",
        "\n"
      ],
      "metadata": {
        "id": "5i1Etbu1QKK8"
      }
    },
    {
      "cell_type": "code",
      "source": [
        "# importing KNN Imputer\n",
        "from sklearn.impute import KNNImputer\n",
        "\n",
        "# Selecting columns for imputation\n",
        "ligand_efficiency_columns = ['Ligand Efficiency BEI', 'Ligand Efficiency LE',\n",
        "                              'Ligand Efficiency LLE', 'Ligand Efficiency SEI']\n",
        "\n",
        "# Defining KNN imputer\n",
        "knn_imputer = KNNImputer(n_neighbors=5)\n",
        "\n",
        "# Imputing missing values\n",
        "df[ligand_efficiency_columns] = knn_imputer.fit_transform(df[ligand_efficiency_columns])"
      ],
      "metadata": {
        "id": "t9cNfV_KQAxc"
      },
      "execution_count": null,
      "outputs": []
    },
    {
      "cell_type": "code",
      "source": [
        "# Importing numpy\n",
        "import numpy as np\n",
        "\n",
        "# Defining a small constant to handle zero values in Standard Value\n",
        "epsilon = 1e-10\n",
        "\n",
        "# Converting Standard Value from nM to Molar (M)\n",
        "df['Standard Value (M)'] = df['Standard Value'] * 1e-9\n",
        "\n",
        "# Adding the small constant to Standard Value to avoid log(0)\n",
        "df['Standard Value (M)'] = df['Standard Value (M)'].replace(0, epsilon)\n",
        "\n",
        "# Imputing missing pChEMBL Value\n",
        "df['pChEMBL Value'] = df.apply(\n",
        "    lambda row: -np.log10(row['Standard Value']) if pd.isna(row['pChEMBL Value']) else row['pChEMBL Value'],\n",
        "    axis=1\n",
        ")\n",
        "\n",
        "# print(df['pChEMBL Value'])"
      ],
      "metadata": {
        "id": "z1WVLYaaQhuK"
      },
      "execution_count": null,
      "outputs": []
    },
    {
      "cell_type": "code",
      "source": [
        "# Defining a placeholder for missing values\n",
        "placeholder = 'Unknown'\n",
        "\n",
        "# Imputing missing values in the 'Assay Organism' column with the placeholder\n",
        "df['Assay Organism'].fillna(placeholder, inplace=True)\n",
        "\n",
        "# Verifying that there are no missing values left in the 'Assay Organism' column\n",
        "missing_values_after = df['Assay Organism'].isnull().sum()\n",
        "print(missing_values_after[missing_values_after > 0])"
      ],
      "metadata": {
        "colab": {
          "base_uri": "https://localhost:8080/"
        },
        "id": "Bod24RhZRSdp",
        "outputId": "f0fdb47b-4668-4903-b071-edcca8473352"
      },
      "execution_count": null,
      "outputs": [
        {
          "output_type": "stream",
          "name": "stdout",
          "text": [
            "[]\n"
          ]
        }
      ]
    },
    {
      "cell_type": "code",
      "source": [
        "# Define the columns with missing values\n",
        "columns_to_check = ['#RO5 Violations', 'AlogP','Smiles', 'Molecular Weight', 'Standard Value']\n",
        "\n",
        "# Remove rows where any of the specified columns have missing values\n",
        "df.dropna(subset=columns_to_check, inplace=True) # Remove inplace=True\n",
        "\n",
        "# Check if any missing values remain in the specified columns\n",
        "missing_values_after = df.isnull().sum()\n",
        "print(missing_values_after[missing_values_after > 0])"
      ],
      "metadata": {
        "colab": {
          "base_uri": "https://localhost:8080/"
        },
        "id": "rmwiKi77TVOc",
        "outputId": "37e2cd06-91d4-4f1d-aefd-77ad17e47dfd"
      },
      "execution_count": null,
      "outputs": [
        {
          "output_type": "stream",
          "name": "stdout",
          "text": [
            "Series([], dtype: int64)\n"
          ]
        }
      ]
    },
    {
      "cell_type": "code",
      "source": [
        "df.info()"
      ],
      "metadata": {
        "colab": {
          "base_uri": "https://localhost:8080/"
        },
        "id": "xp_XmAepU70p",
        "outputId": "03a2a5a7-cf48-4582-ef3c-61fb206abb75"
      },
      "execution_count": null,
      "outputs": [
        {
          "output_type": "stream",
          "name": "stdout",
          "text": [
            "<class 'pandas.core.frame.DataFrame'>\n",
            "Index: 13885 entries, 0 to 15779\n",
            "Data columns (total 23 columns):\n",
            " #   Column                 Non-Null Count  Dtype  \n",
            "---  ------                 --------------  -----  \n",
            " 0   Molecule ChEMBL ID     13885 non-null  object \n",
            " 1   Molecular Weight       13885 non-null  float64\n",
            " 2   #RO5 Violations        13885 non-null  float64\n",
            " 3   AlogP                  13885 non-null  float64\n",
            " 4   Smiles                 13885 non-null  object \n",
            " 5   Standard Type          13885 non-null  object \n",
            " 6   Standard Value         13885 non-null  float64\n",
            " 7   Standard Units         13885 non-null  object \n",
            " 8   pChEMBL Value          13885 non-null  float64\n",
            " 9   Ligand Efficiency BEI  13885 non-null  float64\n",
            " 10  Ligand Efficiency LE   13885 non-null  float64\n",
            " 11  Ligand Efficiency LLE  13885 non-null  float64\n",
            " 12  Ligand Efficiency SEI  13885 non-null  float64\n",
            " 13  Assay ChEMBL ID        13885 non-null  object \n",
            " 14  Assay Description      13885 non-null  object \n",
            " 15  Assay Type             13885 non-null  object \n",
            " 16  BAO Format ID          13885 non-null  object \n",
            " 17  Assay Organism         13885 non-null  object \n",
            " 18  Target ChEMBL ID       13885 non-null  object \n",
            " 19  Target Name            13885 non-null  object \n",
            " 20  Target Organism        13885 non-null  object \n",
            " 21  Target Type            13885 non-null  object \n",
            " 22  Standard Value (M)     13885 non-null  float64\n",
            "dtypes: float64(10), object(13)\n",
            "memory usage: 2.5+ MB\n"
          ]
        }
      ]
    },
    {
      "cell_type": "markdown",
      "source": [
        "# **Feature Engineering**"
      ],
      "metadata": {
        "id": "1qa4mGjxjKfh"
      }
    },
    {
      "cell_type": "code",
      "source": [
        "!pip install rdkit"
      ],
      "metadata": {
        "colab": {
          "base_uri": "https://localhost:8080/"
        },
        "id": "1v1Y3S02Va1k",
        "outputId": "80ccf795-7907-4658-ecf2-6919fa9f2f18"
      },
      "execution_count": null,
      "outputs": [
        {
          "output_type": "stream",
          "name": "stdout",
          "text": [
            "Collecting rdkit\n",
            "  Downloading rdkit-2024.3.5-cp310-cp310-manylinux_2_28_x86_64.whl.metadata (3.9 kB)\n",
            "Requirement already satisfied: numpy in /usr/local/lib/python3.10/dist-packages (from rdkit) (1.26.4)\n",
            "Requirement already satisfied: Pillow in /usr/local/lib/python3.10/dist-packages (from rdkit) (9.4.0)\n",
            "Downloading rdkit-2024.3.5-cp310-cp310-manylinux_2_28_x86_64.whl (33.1 MB)\n",
            "\u001b[2K   \u001b[90m━━━━━━━━━━━━━━━━━━━━━━━━━━━━━━━━━━━━━━━━\u001b[0m \u001b[32m33.1/33.1 MB\u001b[0m \u001b[31m55.2 MB/s\u001b[0m eta \u001b[36m0:00:00\u001b[0m\n",
            "\u001b[?25hInstalling collected packages: rdkit\n",
            "Successfully installed rdkit-2024.3.5\n"
          ]
        }
      ]
    },
    {
      "cell_type": "code",
      "source": [
        "import pandas as pd\n",
        "from rdkit import Chem\n",
        "from rdkit.Chem import Descriptors, PandasTools\n",
        "\n",
        "# Convert SMILES to molecular descriptors\n",
        "def smiles_to_descriptors(Smiles):\n",
        "    mol = Chem.MolFromSmiles(Smiles)\n",
        "    if mol:\n",
        "        return {\n",
        "            'NumRotatableBonds': Descriptors.NumRotatableBonds(mol),\n",
        "            # Add more descriptors as needed\n",
        "        }\n",
        "    return {}\n",
        "\n",
        "descriptors = df['Smiles'].apply(smiles_to_descriptors)\n",
        "descriptor_df = pd.json_normalize(descriptors)\n",
        "df = pd.concat([df, descriptor_df], axis=1)\n",
        "\n",
        "# Drop columns not used for modeling\n",
        "df = df.drop(columns=['Smiles', 'Assay ChEMBL ID', 'Assay Description', 'Target ChEMBL ID', 'Target Organism'])"
      ],
      "metadata": {
        "id": "iEAAZTL4Vihr"
      },
      "execution_count": null,
      "outputs": []
    },
    {
      "cell_type": "code",
      "source": [
        "df.head()"
      ],
      "metadata": {
        "colab": {
          "base_uri": "https://localhost:8080/",
          "height": 347
        },
        "id": "cL7-1QmVVumH",
        "outputId": "a1676453-fa66-40af-814a-eada38f0fca6"
      },
      "execution_count": null,
      "outputs": [
        {
          "output_type": "execute_result",
          "data": {
            "text/plain": [
              "  Molecule ChEMBL ID  Molecular Weight  #RO5 Violations  AlogP Standard Type  \\\n",
              "0      CHEMBL2447962            324.90              0.0   3.90          IC50   \n",
              "1          CHEMBL473            441.58              0.0   1.98          IC50   \n",
              "2           CHEMBL85            410.49              0.0   3.59          IC50   \n",
              "3      CHEMBL1818825            429.40              0.0   4.39          IC50   \n",
              "4      CHEMBL3233190            577.69              1.0   4.27          IC50   \n",
              "\n",
              "   Standard Value Standard Units  pChEMBL Value  Ligand Efficiency BEI  \\\n",
              "0        758000.0             nM      -5.879669              12.970272   \n",
              "1             5.0             nM       8.300000              12.970272   \n",
              "2           150.0             nM       6.820000              12.970272   \n",
              "3           720.0             nM       6.140000              14.310000   \n",
              "4         80000.0             nM      -4.903090              12.970272   \n",
              "\n",
              "   Ligand Efficiency LE  Ligand Efficiency LLE  Ligand Efficiency SEI  \\\n",
              "0              0.248955               1.519936              11.272179   \n",
              "1              0.248955               1.519936              11.272179   \n",
              "2              0.248955               1.519936              11.272179   \n",
              "3              0.270000               1.750000               9.170000   \n",
              "4              0.248955               1.519936              11.272179   \n",
              "\n",
              "  Assay Type BAO Format ID Assay Organism Target Name     Target Type  \\\n",
              "0          B   BAO_0000219   Homo sapiens        HERG  SINGLE PROTEIN   \n",
              "1          F   BAO_0000019        Unknown        HERG  SINGLE PROTEIN   \n",
              "2          F   BAO_0000019        Unknown        HERG  SINGLE PROTEIN   \n",
              "3          B   BAO_0000357   Homo sapiens        HERG  SINGLE PROTEIN   \n",
              "4          B   BAO_0000357   Homo sapiens        HERG  SINGLE PROTEIN   \n",
              "\n",
              "   Standard Value (M)  NumRotatableBonds  \n",
              "0        7.580000e-04                5.0  \n",
              "1        5.000000e-09               11.0  \n",
              "2        1.500000e-07                4.0  \n",
              "3        7.200000e-07                6.0  \n",
              "4        8.000000e-05                7.0  "
            ],
            "text/html": [
              "\n",
              "  <div id=\"df-66f2d791-06cf-4b15-b6af-f5f637d5d0e5\" class=\"colab-df-container\">\n",
              "    <div>\n",
              "<style scoped>\n",
              "    .dataframe tbody tr th:only-of-type {\n",
              "        vertical-align: middle;\n",
              "    }\n",
              "\n",
              "    .dataframe tbody tr th {\n",
              "        vertical-align: top;\n",
              "    }\n",
              "\n",
              "    .dataframe thead th {\n",
              "        text-align: right;\n",
              "    }\n",
              "</style>\n",
              "<table border=\"1\" class=\"dataframe\">\n",
              "  <thead>\n",
              "    <tr style=\"text-align: right;\">\n",
              "      <th></th>\n",
              "      <th>Molecule ChEMBL ID</th>\n",
              "      <th>Molecular Weight</th>\n",
              "      <th>#RO5 Violations</th>\n",
              "      <th>AlogP</th>\n",
              "      <th>Standard Type</th>\n",
              "      <th>Standard Value</th>\n",
              "      <th>Standard Units</th>\n",
              "      <th>pChEMBL Value</th>\n",
              "      <th>Ligand Efficiency BEI</th>\n",
              "      <th>Ligand Efficiency LE</th>\n",
              "      <th>Ligand Efficiency LLE</th>\n",
              "      <th>Ligand Efficiency SEI</th>\n",
              "      <th>Assay Type</th>\n",
              "      <th>BAO Format ID</th>\n",
              "      <th>Assay Organism</th>\n",
              "      <th>Target Name</th>\n",
              "      <th>Target Type</th>\n",
              "      <th>Standard Value (M)</th>\n",
              "      <th>NumRotatableBonds</th>\n",
              "    </tr>\n",
              "  </thead>\n",
              "  <tbody>\n",
              "    <tr>\n",
              "      <th>0</th>\n",
              "      <td>CHEMBL2447962</td>\n",
              "      <td>324.90</td>\n",
              "      <td>0.0</td>\n",
              "      <td>3.90</td>\n",
              "      <td>IC50</td>\n",
              "      <td>758000.0</td>\n",
              "      <td>nM</td>\n",
              "      <td>-5.879669</td>\n",
              "      <td>12.970272</td>\n",
              "      <td>0.248955</td>\n",
              "      <td>1.519936</td>\n",
              "      <td>11.272179</td>\n",
              "      <td>B</td>\n",
              "      <td>BAO_0000219</td>\n",
              "      <td>Homo sapiens</td>\n",
              "      <td>HERG</td>\n",
              "      <td>SINGLE PROTEIN</td>\n",
              "      <td>7.580000e-04</td>\n",
              "      <td>5.0</td>\n",
              "    </tr>\n",
              "    <tr>\n",
              "      <th>1</th>\n",
              "      <td>CHEMBL473</td>\n",
              "      <td>441.58</td>\n",
              "      <td>0.0</td>\n",
              "      <td>1.98</td>\n",
              "      <td>IC50</td>\n",
              "      <td>5.0</td>\n",
              "      <td>nM</td>\n",
              "      <td>8.300000</td>\n",
              "      <td>12.970272</td>\n",
              "      <td>0.248955</td>\n",
              "      <td>1.519936</td>\n",
              "      <td>11.272179</td>\n",
              "      <td>F</td>\n",
              "      <td>BAO_0000019</td>\n",
              "      <td>Unknown</td>\n",
              "      <td>HERG</td>\n",
              "      <td>SINGLE PROTEIN</td>\n",
              "      <td>5.000000e-09</td>\n",
              "      <td>11.0</td>\n",
              "    </tr>\n",
              "    <tr>\n",
              "      <th>2</th>\n",
              "      <td>CHEMBL85</td>\n",
              "      <td>410.49</td>\n",
              "      <td>0.0</td>\n",
              "      <td>3.59</td>\n",
              "      <td>IC50</td>\n",
              "      <td>150.0</td>\n",
              "      <td>nM</td>\n",
              "      <td>6.820000</td>\n",
              "      <td>12.970272</td>\n",
              "      <td>0.248955</td>\n",
              "      <td>1.519936</td>\n",
              "      <td>11.272179</td>\n",
              "      <td>F</td>\n",
              "      <td>BAO_0000019</td>\n",
              "      <td>Unknown</td>\n",
              "      <td>HERG</td>\n",
              "      <td>SINGLE PROTEIN</td>\n",
              "      <td>1.500000e-07</td>\n",
              "      <td>4.0</td>\n",
              "    </tr>\n",
              "    <tr>\n",
              "      <th>3</th>\n",
              "      <td>CHEMBL1818825</td>\n",
              "      <td>429.40</td>\n",
              "      <td>0.0</td>\n",
              "      <td>4.39</td>\n",
              "      <td>IC50</td>\n",
              "      <td>720.0</td>\n",
              "      <td>nM</td>\n",
              "      <td>6.140000</td>\n",
              "      <td>14.310000</td>\n",
              "      <td>0.270000</td>\n",
              "      <td>1.750000</td>\n",
              "      <td>9.170000</td>\n",
              "      <td>B</td>\n",
              "      <td>BAO_0000357</td>\n",
              "      <td>Homo sapiens</td>\n",
              "      <td>HERG</td>\n",
              "      <td>SINGLE PROTEIN</td>\n",
              "      <td>7.200000e-07</td>\n",
              "      <td>6.0</td>\n",
              "    </tr>\n",
              "    <tr>\n",
              "      <th>4</th>\n",
              "      <td>CHEMBL3233190</td>\n",
              "      <td>577.69</td>\n",
              "      <td>1.0</td>\n",
              "      <td>4.27</td>\n",
              "      <td>IC50</td>\n",
              "      <td>80000.0</td>\n",
              "      <td>nM</td>\n",
              "      <td>-4.903090</td>\n",
              "      <td>12.970272</td>\n",
              "      <td>0.248955</td>\n",
              "      <td>1.519936</td>\n",
              "      <td>11.272179</td>\n",
              "      <td>B</td>\n",
              "      <td>BAO_0000357</td>\n",
              "      <td>Homo sapiens</td>\n",
              "      <td>HERG</td>\n",
              "      <td>SINGLE PROTEIN</td>\n",
              "      <td>8.000000e-05</td>\n",
              "      <td>7.0</td>\n",
              "    </tr>\n",
              "  </tbody>\n",
              "</table>\n",
              "</div>\n",
              "    <div class=\"colab-df-buttons\">\n",
              "\n",
              "  <div class=\"colab-df-container\">\n",
              "    <button class=\"colab-df-convert\" onclick=\"convertToInteractive('df-66f2d791-06cf-4b15-b6af-f5f637d5d0e5')\"\n",
              "            title=\"Convert this dataframe to an interactive table.\"\n",
              "            style=\"display:none;\">\n",
              "\n",
              "  <svg xmlns=\"http://www.w3.org/2000/svg\" height=\"24px\" viewBox=\"0 -960 960 960\">\n",
              "    <path d=\"M120-120v-720h720v720H120Zm60-500h600v-160H180v160Zm220 220h160v-160H400v160Zm0 220h160v-160H400v160ZM180-400h160v-160H180v160Zm440 0h160v-160H620v160ZM180-180h160v-160H180v160Zm440 0h160v-160H620v160Z\"/>\n",
              "  </svg>\n",
              "    </button>\n",
              "\n",
              "  <style>\n",
              "    .colab-df-container {\n",
              "      display:flex;\n",
              "      gap: 12px;\n",
              "    }\n",
              "\n",
              "    .colab-df-convert {\n",
              "      background-color: #E8F0FE;\n",
              "      border: none;\n",
              "      border-radius: 50%;\n",
              "      cursor: pointer;\n",
              "      display: none;\n",
              "      fill: #1967D2;\n",
              "      height: 32px;\n",
              "      padding: 0 0 0 0;\n",
              "      width: 32px;\n",
              "    }\n",
              "\n",
              "    .colab-df-convert:hover {\n",
              "      background-color: #E2EBFA;\n",
              "      box-shadow: 0px 1px 2px rgba(60, 64, 67, 0.3), 0px 1px 3px 1px rgba(60, 64, 67, 0.15);\n",
              "      fill: #174EA6;\n",
              "    }\n",
              "\n",
              "    .colab-df-buttons div {\n",
              "      margin-bottom: 4px;\n",
              "    }\n",
              "\n",
              "    [theme=dark] .colab-df-convert {\n",
              "      background-color: #3B4455;\n",
              "      fill: #D2E3FC;\n",
              "    }\n",
              "\n",
              "    [theme=dark] .colab-df-convert:hover {\n",
              "      background-color: #434B5C;\n",
              "      box-shadow: 0px 1px 3px 1px rgba(0, 0, 0, 0.15);\n",
              "      filter: drop-shadow(0px 1px 2px rgba(0, 0, 0, 0.3));\n",
              "      fill: #FFFFFF;\n",
              "    }\n",
              "  </style>\n",
              "\n",
              "    <script>\n",
              "      const buttonEl =\n",
              "        document.querySelector('#df-66f2d791-06cf-4b15-b6af-f5f637d5d0e5 button.colab-df-convert');\n",
              "      buttonEl.style.display =\n",
              "        google.colab.kernel.accessAllowed ? 'block' : 'none';\n",
              "\n",
              "      async function convertToInteractive(key) {\n",
              "        const element = document.querySelector('#df-66f2d791-06cf-4b15-b6af-f5f637d5d0e5');\n",
              "        const dataTable =\n",
              "          await google.colab.kernel.invokeFunction('convertToInteractive',\n",
              "                                                    [key], {});\n",
              "        if (!dataTable) return;\n",
              "\n",
              "        const docLinkHtml = 'Like what you see? Visit the ' +\n",
              "          '<a target=\"_blank\" href=https://colab.research.google.com/notebooks/data_table.ipynb>data table notebook</a>'\n",
              "          + ' to learn more about interactive tables.';\n",
              "        element.innerHTML = '';\n",
              "        dataTable['output_type'] = 'display_data';\n",
              "        await google.colab.output.renderOutput(dataTable, element);\n",
              "        const docLink = document.createElement('div');\n",
              "        docLink.innerHTML = docLinkHtml;\n",
              "        element.appendChild(docLink);\n",
              "      }\n",
              "    </script>\n",
              "  </div>\n",
              "\n",
              "\n",
              "<div id=\"df-e396b2d6-38d3-4bf1-b768-4b8ee5d05745\">\n",
              "  <button class=\"colab-df-quickchart\" onclick=\"quickchart('df-e396b2d6-38d3-4bf1-b768-4b8ee5d05745')\"\n",
              "            title=\"Suggest charts\"\n",
              "            style=\"display:none;\">\n",
              "\n",
              "<svg xmlns=\"http://www.w3.org/2000/svg\" height=\"24px\"viewBox=\"0 0 24 24\"\n",
              "     width=\"24px\">\n",
              "    <g>\n",
              "        <path d=\"M19 3H5c-1.1 0-2 .9-2 2v14c0 1.1.9 2 2 2h14c1.1 0 2-.9 2-2V5c0-1.1-.9-2-2-2zM9 17H7v-7h2v7zm4 0h-2V7h2v10zm4 0h-2v-4h2v4z\"/>\n",
              "    </g>\n",
              "</svg>\n",
              "  </button>\n",
              "\n",
              "<style>\n",
              "  .colab-df-quickchart {\n",
              "      --bg-color: #E8F0FE;\n",
              "      --fill-color: #1967D2;\n",
              "      --hover-bg-color: #E2EBFA;\n",
              "      --hover-fill-color: #174EA6;\n",
              "      --disabled-fill-color: #AAA;\n",
              "      --disabled-bg-color: #DDD;\n",
              "  }\n",
              "\n",
              "  [theme=dark] .colab-df-quickchart {\n",
              "      --bg-color: #3B4455;\n",
              "      --fill-color: #D2E3FC;\n",
              "      --hover-bg-color: #434B5C;\n",
              "      --hover-fill-color: #FFFFFF;\n",
              "      --disabled-bg-color: #3B4455;\n",
              "      --disabled-fill-color: #666;\n",
              "  }\n",
              "\n",
              "  .colab-df-quickchart {\n",
              "    background-color: var(--bg-color);\n",
              "    border: none;\n",
              "    border-radius: 50%;\n",
              "    cursor: pointer;\n",
              "    display: none;\n",
              "    fill: var(--fill-color);\n",
              "    height: 32px;\n",
              "    padding: 0;\n",
              "    width: 32px;\n",
              "  }\n",
              "\n",
              "  .colab-df-quickchart:hover {\n",
              "    background-color: var(--hover-bg-color);\n",
              "    box-shadow: 0 1px 2px rgba(60, 64, 67, 0.3), 0 1px 3px 1px rgba(60, 64, 67, 0.15);\n",
              "    fill: var(--button-hover-fill-color);\n",
              "  }\n",
              "\n",
              "  .colab-df-quickchart-complete:disabled,\n",
              "  .colab-df-quickchart-complete:disabled:hover {\n",
              "    background-color: var(--disabled-bg-color);\n",
              "    fill: var(--disabled-fill-color);\n",
              "    box-shadow: none;\n",
              "  }\n",
              "\n",
              "  .colab-df-spinner {\n",
              "    border: 2px solid var(--fill-color);\n",
              "    border-color: transparent;\n",
              "    border-bottom-color: var(--fill-color);\n",
              "    animation:\n",
              "      spin 1s steps(1) infinite;\n",
              "  }\n",
              "\n",
              "  @keyframes spin {\n",
              "    0% {\n",
              "      border-color: transparent;\n",
              "      border-bottom-color: var(--fill-color);\n",
              "      border-left-color: var(--fill-color);\n",
              "    }\n",
              "    20% {\n",
              "      border-color: transparent;\n",
              "      border-left-color: var(--fill-color);\n",
              "      border-top-color: var(--fill-color);\n",
              "    }\n",
              "    30% {\n",
              "      border-color: transparent;\n",
              "      border-left-color: var(--fill-color);\n",
              "      border-top-color: var(--fill-color);\n",
              "      border-right-color: var(--fill-color);\n",
              "    }\n",
              "    40% {\n",
              "      border-color: transparent;\n",
              "      border-right-color: var(--fill-color);\n",
              "      border-top-color: var(--fill-color);\n",
              "    }\n",
              "    60% {\n",
              "      border-color: transparent;\n",
              "      border-right-color: var(--fill-color);\n",
              "    }\n",
              "    80% {\n",
              "      border-color: transparent;\n",
              "      border-right-color: var(--fill-color);\n",
              "      border-bottom-color: var(--fill-color);\n",
              "    }\n",
              "    90% {\n",
              "      border-color: transparent;\n",
              "      border-bottom-color: var(--fill-color);\n",
              "    }\n",
              "  }\n",
              "</style>\n",
              "\n",
              "  <script>\n",
              "    async function quickchart(key) {\n",
              "      const quickchartButtonEl =\n",
              "        document.querySelector('#' + key + ' button');\n",
              "      quickchartButtonEl.disabled = true;  // To prevent multiple clicks.\n",
              "      quickchartButtonEl.classList.add('colab-df-spinner');\n",
              "      try {\n",
              "        const charts = await google.colab.kernel.invokeFunction(\n",
              "            'suggestCharts', [key], {});\n",
              "      } catch (error) {\n",
              "        console.error('Error during call to suggestCharts:', error);\n",
              "      }\n",
              "      quickchartButtonEl.classList.remove('colab-df-spinner');\n",
              "      quickchartButtonEl.classList.add('colab-df-quickchart-complete');\n",
              "    }\n",
              "    (() => {\n",
              "      let quickchartButtonEl =\n",
              "        document.querySelector('#df-e396b2d6-38d3-4bf1-b768-4b8ee5d05745 button');\n",
              "      quickchartButtonEl.style.display =\n",
              "        google.colab.kernel.accessAllowed ? 'block' : 'none';\n",
              "    })();\n",
              "  </script>\n",
              "</div>\n",
              "\n",
              "    </div>\n",
              "  </div>\n"
            ],
            "application/vnd.google.colaboratory.intrinsic+json": {
              "type": "dataframe",
              "variable_name": "df",
              "summary": "{\n  \"name\": \"df\",\n  \"rows\": 15656,\n  \"fields\": [\n    {\n      \"column\": \"Molecule ChEMBL ID\",\n      \"properties\": {\n        \"dtype\": \"string\",\n        \"num_unique_values\": 11977,\n        \"samples\": [\n          \"CHEMBL567\",\n          \"CHEMBL4845931\",\n          \"CHEMBL4782133\"\n        ],\n        \"semantic_type\": \"\",\n        \"description\": \"\"\n      }\n    },\n    {\n      \"column\": \"Molecular Weight\",\n      \"properties\": {\n        \"dtype\": \"number\",\n        \"std\": 85.92536438733161,\n        \"min\": 94.12,\n        \"max\": 983.36,\n        \"num_unique_values\": 6164,\n        \"samples\": [\n          411.46,\n          470.48,\n          415.98\n        ],\n        \"semantic_type\": \"\",\n        \"description\": \"\"\n      }\n    },\n    {\n      \"column\": \"#RO5 Violations\",\n      \"properties\": {\n        \"dtype\": \"number\",\n        \"std\": 0.6612601915683719,\n        \"min\": 0.0,\n        \"max\": 3.0,\n        \"num_unique_values\": 4,\n        \"samples\": [\n          1.0,\n          3.0,\n          0.0\n        ],\n        \"semantic_type\": \"\",\n        \"description\": \"\"\n      }\n    },\n    {\n      \"column\": \"AlogP\",\n      \"properties\": {\n        \"dtype\": \"number\",\n        \"std\": 1.4111406668211819,\n        \"min\": -2.09,\n        \"max\": 10.82,\n        \"num_unique_values\": 811,\n        \"samples\": [\n          3.89,\n          0.69,\n          4.68\n        ],\n        \"semantic_type\": \"\",\n        \"description\": \"\"\n      }\n    },\n    {\n      \"column\": \"Standard Type\",\n      \"properties\": {\n        \"dtype\": \"category\",\n        \"num_unique_values\": 2,\n        \"samples\": [\n          \"EC50\",\n          \"IC50\"\n        ],\n        \"semantic_type\": \"\",\n        \"description\": \"\"\n      }\n    },\n    {\n      \"column\": \"Standard Value\",\n      \"properties\": {\n        \"dtype\": \"number\",\n        \"std\": 20616340.194633074,\n        \"min\": 0.14,\n        \"max\": 1000000000.0,\n        \"num_unique_values\": 2235,\n        \"samples\": [\n          16.75,\n          54230.0\n        ],\n        \"semantic_type\": \"\",\n        \"description\": \"\"\n      }\n    },\n    {\n      \"column\": \"Standard Units\",\n      \"properties\": {\n        \"dtype\": \"category\",\n        \"num_unique_values\": 3,\n        \"samples\": [\n          \"nM\",\n          \"ucm\"\n        ],\n        \"semantic_type\": \"\",\n        \"description\": \"\"\n      }\n    },\n    {\n      \"column\": \"pChEMBL Value\",\n      \"properties\": {\n        \"dtype\": \"number\",\n        \"std\": 4.672770682101149,\n        \"min\": -9.0,\n        \"max\": 9.85,\n        \"num_unique_values\": 803,\n        \"samples\": [\n          5.66,\n          6.74\n        ],\n        \"semantic_type\": \"\",\n        \"description\": \"\"\n      }\n    },\n    {\n      \"column\": \"Ligand Efficiency BEI\",\n      \"properties\": {\n        \"dtype\": \"number\",\n        \"std\": 2.602087931127664,\n        \"min\": 5.14,\n        \"max\": 37.76,\n        \"num_unique_values\": 1474,\n        \"samples\": [\n          19.26,\n          13.74\n        ],\n        \"semantic_type\": \"\",\n        \"description\": \"\"\n      }\n    },\n    {\n      \"column\": \"Ligand Efficiency LE\",\n      \"properties\": {\n        \"dtype\": \"number\",\n        \"std\": 0.05051857666438689,\n        \"min\": 0.1,\n        \"max\": 0.68,\n        \"num_unique_values\": 50,\n        \"samples\": [\n          0.4,\n          0.48\n        ],\n        \"semantic_type\": \"\",\n        \"description\": \"\"\n      }\n    },\n    {\n      \"column\": \"Ligand Efficiency LLE\",\n      \"properties\": {\n        \"dtype\": \"number\",\n        \"std\": 1.0925360381152276,\n        \"min\": -5.52,\n        \"max\": 6.75,\n        \"num_unique_values\": 810,\n        \"samples\": [\n          2.87,\n          4.24\n        ],\n        \"semantic_type\": \"\",\n        \"description\": \"\"\n      }\n    },\n    {\n      \"column\": \"Ligand Efficiency SEI\",\n      \"properties\": {\n        \"dtype\": \"number\",\n        \"std\": 14.168771465127262,\n        \"min\": 2.05,\n        \"max\": 258.23,\n        \"num_unique_values\": 1940,\n        \"samples\": [\n          14.92,\n          13.29\n        ],\n        \"semantic_type\": \"\",\n        \"description\": \"\"\n      }\n    },\n    {\n      \"column\": \"Assay Type\",\n      \"properties\": {\n        \"dtype\": \"category\",\n        \"num_unique_values\": 4,\n        \"samples\": [\n          \"F\",\n          \"A\"\n        ],\n        \"semantic_type\": \"\",\n        \"description\": \"\"\n      }\n    },\n    {\n      \"column\": \"BAO Format ID\",\n      \"properties\": {\n        \"dtype\": \"category\",\n        \"num_unique_values\": 6,\n        \"samples\": [\n          \"BAO_0000219\",\n          \"BAO_0000019\"\n        ],\n        \"semantic_type\": \"\",\n        \"description\": \"\"\n      }\n    },\n    {\n      \"column\": \"Assay Organism\",\n      \"properties\": {\n        \"dtype\": \"category\",\n        \"num_unique_values\": 5,\n        \"samples\": [\n          \"Unknown\",\n          \"Blocker\"\n        ],\n        \"semantic_type\": \"\",\n        \"description\": \"\"\n      }\n    },\n    {\n      \"column\": \"Target Name\",\n      \"properties\": {\n        \"dtype\": \"category\",\n        \"num_unique_values\": 1,\n        \"samples\": [\n          \"HERG\"\n        ],\n        \"semantic_type\": \"\",\n        \"description\": \"\"\n      }\n    },\n    {\n      \"column\": \"Target Type\",\n      \"properties\": {\n        \"dtype\": \"category\",\n        \"num_unique_values\": 1,\n        \"samples\": [\n          \"SINGLE PROTEIN\"\n        ],\n        \"semantic_type\": \"\",\n        \"description\": \"\"\n      }\n    },\n    {\n      \"column\": \"Standard Value (M)\",\n      \"properties\": {\n        \"dtype\": \"number\",\n        \"std\": 0.020616340194633077,\n        \"min\": 1.4000000000000003e-10,\n        \"max\": 1.0,\n        \"num_unique_values\": 2235,\n        \"samples\": [\n          1.675e-08\n        ],\n        \"semantic_type\": \"\",\n        \"description\": \"\"\n      }\n    },\n    {\n      \"column\": \"NumRotatableBonds\",\n      \"properties\": {\n        \"dtype\": \"number\",\n        \"std\": 2.4902939159673156,\n        \"min\": 0.0,\n        \"max\": 20.0,\n        \"num_unique_values\": 21,\n        \"samples\": [\n          5.0\n        ],\n        \"semantic_type\": \"\",\n        \"description\": \"\"\n      }\n    }\n  ]\n}"
            }
          },
          "metadata": {},
          "execution_count": 16
        }
      ]
    },
    {
      "cell_type": "code",
      "source": [
        "missing_data = df.isnull().sum()\n",
        "print(missing_data[missing_data > 0])"
      ],
      "metadata": {
        "colab": {
          "base_uri": "https://localhost:8080/"
        },
        "id": "rhFgT6VJVy0Q",
        "outputId": "ebfb7ed3-9d15-4c40-d197-575e0a53b81d"
      },
      "execution_count": null,
      "outputs": [
        {
          "output_type": "stream",
          "name": "stdout",
          "text": [
            "Molecule ChEMBL ID       1771\n",
            "Molecular Weight         1771\n",
            "#RO5 Violations          1771\n",
            "AlogP                    1771\n",
            "Standard Type            1771\n",
            "Standard Value           1771\n",
            "Standard Units           1771\n",
            "pChEMBL Value            1771\n",
            "Ligand Efficiency BEI    1771\n",
            "Ligand Efficiency LE     1771\n",
            "Ligand Efficiency LLE    1771\n",
            "Ligand Efficiency SEI    1771\n",
            "Assay Type               1771\n",
            "BAO Format ID            1771\n",
            "Assay Organism           1771\n",
            "Target Name              1771\n",
            "Target Type              1771\n",
            "Standard Value (M)       1771\n",
            "NumRotatableBonds        1771\n",
            "dtype: int64\n"
          ]
        }
      ]
    },
    {
      "cell_type": "code",
      "source": [
        "# Define the columns with missing values\n",
        "columns_to_check = ['#RO5 Violations', 'AlogP', 'Molecular Weight', 'NumRotatableBonds']\n",
        "\n",
        "# Remove rows where any of the specified columns have missing values\n",
        "df.dropna(subset=columns_to_check, inplace=True) # Remove inplace=True"
      ],
      "metadata": {
        "id": "b4AEn5G3V8FK"
      },
      "execution_count": null,
      "outputs": []
    },
    {
      "cell_type": "code",
      "source": [
        "missing_data = df.isnull().sum()\n",
        "print(missing_data[missing_data > 0])"
      ],
      "metadata": {
        "colab": {
          "base_uri": "https://localhost:8080/"
        },
        "id": "HgRRfkONWBFa",
        "outputId": "c4a6b447-f09e-4a4f-b233-d14531ee1944"
      },
      "execution_count": null,
      "outputs": [
        {
          "output_type": "stream",
          "name": "stdout",
          "text": [
            "Series([], dtype: int64)\n"
          ]
        }
      ]
    },
    {
      "cell_type": "code",
      "source": [
        "# Check if \"EC50\" is present in a specific column, e.g., 'your_column'\n",
        "contains_ec50 = df['Standard Type'].str.contains('EC50', case=False, na=False)\n",
        "\n",
        "# Print rows that contain \"EC50\"\n",
        "print(df[contains_ec50])"
      ],
      "metadata": {
        "colab": {
          "base_uri": "https://localhost:8080/"
        },
        "id": "1oTvdT5z1uVs",
        "outputId": "05db3c88-61ea-49ea-a190-55612d797b3c"
      },
      "execution_count": null,
      "outputs": [
        {
          "output_type": "stream",
          "name": "stdout",
          "text": [
            "      Molecule ChEMBL ID  Molecular Weight  #RO5 Violations  AlogP  \\\n",
            "79          CHEMBL471399            475.62              0.0   4.48   \n",
            "80          CHEMBL472443            461.59              0.0   4.09   \n",
            "139        CHEMBL3740963            411.25              0.0   4.09   \n",
            "353        CHEMBL4472621            314.35              0.0   3.65   \n",
            "399        CHEMBL1416899            365.36              0.0   1.17   \n",
            "...                  ...               ...              ...    ...   \n",
            "13391      CHEMBL3753837            300.38              0.0   3.92   \n",
            "13392      CHEMBL3989951            316.38              0.0   2.89   \n",
            "13523      CHEMBL4543526            314.36              0.0   3.10   \n",
            "13783      CHEMBL3108913            352.44              0.0   3.54   \n",
            "13820      CHEMBL4570289            318.37              0.0   4.03   \n",
            "\n",
            "      Standard Type  Standard Value Standard Units  pChEMBL Value  \\\n",
            "79             EC50         10000.0             nM       5.000000   \n",
            "80             EC50         10100.0             nM       5.000000   \n",
            "139            EC50         12000.0             nM       4.920000   \n",
            "353            EC50         10000.0             nM      -4.000000   \n",
            "399            EC50          2270.0             nM       5.640000   \n",
            "...             ...             ...            ...            ...   \n",
            "13391          EC50         23000.0             nM       4.640000   \n",
            "13392          EC50         71000.0             nM       4.150000   \n",
            "13523          EC50         65000.0             nM       4.190000   \n",
            "13783          EC50         30000.0             nM      -4.477121   \n",
            "13820          EC50         13200.0             nM       4.880000   \n",
            "\n",
            "       Ligand Efficiency BEI  Ligand Efficiency LE  Ligand Efficiency LLE  \\\n",
            "79                 10.510000              0.200000               0.520000   \n",
            "80                 10.820000              0.210000               0.910000   \n",
            "139                11.970000              0.260000               0.830000   \n",
            "353                12.970272              0.248955               1.519936   \n",
            "399                12.970272              0.248955               1.519936   \n",
            "...                      ...                   ...                    ...   \n",
            "13391              15.440000              0.290000               0.720000   \n",
            "13392              13.110000              0.250000               1.260000   \n",
            "13523              13.320000              0.250000               1.090000   \n",
            "13783              12.970272              0.248955               1.519936   \n",
            "13820              15.330000              0.290000               0.850000   \n",
            "\n",
            "       Ligand Efficiency SEI Assay Type BAO Format ID Assay Organism  \\\n",
            "79                  5.460000          B   BAO_0000219   Homo sapiens   \n",
            "80                  5.460000          B   BAO_0000219   Homo sapiens   \n",
            "139                 7.210000          B   BAO_0000219   Homo sapiens   \n",
            "353                11.272179          B   BAO_0000357   Homo sapiens   \n",
            "399                11.272179          A   BAO_0000357   Homo sapiens   \n",
            "...                      ...        ...           ...            ...   \n",
            "13391              12.190000          B   BAO_0000357   Homo sapiens   \n",
            "13392               7.120000          B   BAO_0000357   Homo sapiens   \n",
            "13523               7.600000          B   BAO_0000357   Homo sapiens   \n",
            "13783              11.272179          B   BAO_0000357   Homo sapiens   \n",
            "13820              12.820000          B   BAO_0000357   Homo sapiens   \n",
            "\n",
            "      Target Name     Target Type  Standard Value (M)  NumRotatableBonds  \n",
            "79           HERG  SINGLE PROTEIN            0.000010                4.0  \n",
            "80           HERG  SINGLE PROTEIN            0.000010                8.0  \n",
            "139          HERG  SINGLE PROTEIN            0.000012                6.0  \n",
            "353          HERG  SINGLE PROTEIN            0.000010                5.0  \n",
            "399          HERG  SINGLE PROTEIN            0.000002                5.0  \n",
            "...           ...             ...                 ...                ...  \n",
            "13391        HERG  SINGLE PROTEIN            0.000023                5.0  \n",
            "13392        HERG  SINGLE PROTEIN            0.000071                6.0  \n",
            "13523        HERG  SINGLE PROTEIN            0.000065                3.0  \n",
            "13783        HERG  SINGLE PROTEIN            0.000030                8.0  \n",
            "13820        HERG  SINGLE PROTEIN            0.000013                4.0  \n",
            "\n",
            "[209 rows x 19 columns]\n"
          ]
        }
      ]
    },
    {
      "cell_type": "code",
      "source": [
        "df.info()"
      ],
      "metadata": {
        "colab": {
          "base_uri": "https://localhost:8080/"
        },
        "id": "IuXks1XLCv8g",
        "outputId": "cfa2bae8-a3ab-4af1-d0a2-6e43765584fd"
      },
      "execution_count": null,
      "outputs": [
        {
          "output_type": "stream",
          "name": "stdout",
          "text": [
            "<class 'pandas.core.frame.DataFrame'>\n",
            "Index: 12114 entries, 0 to 13884\n",
            "Data columns (total 19 columns):\n",
            " #   Column                 Non-Null Count  Dtype  \n",
            "---  ------                 --------------  -----  \n",
            " 0   Molecule ChEMBL ID     12114 non-null  object \n",
            " 1   Molecular Weight       12114 non-null  float64\n",
            " 2   #RO5 Violations        12114 non-null  float64\n",
            " 3   AlogP                  12114 non-null  float64\n",
            " 4   Standard Type          12114 non-null  object \n",
            " 5   Standard Value         12114 non-null  float64\n",
            " 6   Standard Units         12114 non-null  object \n",
            " 7   pChEMBL Value          12114 non-null  float64\n",
            " 8   Ligand Efficiency BEI  12114 non-null  float64\n",
            " 9   Ligand Efficiency LE   12114 non-null  float64\n",
            " 10  Ligand Efficiency LLE  12114 non-null  float64\n",
            " 11  Ligand Efficiency SEI  12114 non-null  float64\n",
            " 12  Assay Type             12114 non-null  object \n",
            " 13  BAO Format ID          12114 non-null  object \n",
            " 14  Assay Organism         12114 non-null  object \n",
            " 15  Target Name            12114 non-null  object \n",
            " 16  Target Type            12114 non-null  object \n",
            " 17  Standard Value (M)     12114 non-null  float64\n",
            " 18  NumRotatableBonds      12114 non-null  float64\n",
            "dtypes: float64(11), object(8)\n",
            "memory usage: 1.8+ MB\n"
          ]
        }
      ]
    },
    {
      "cell_type": "code",
      "source": [
        "# Count how many times 'nM' appears in the 'Standard Unit' column\n",
        "nm_count = df['Standard Units'].str.count('nM').sum()\n",
        "\n",
        "print(f\"Number of columns with unit 'nM': {nm_count}\")"
      ],
      "metadata": {
        "colab": {
          "base_uri": "https://localhost:8080/"
        },
        "id": "LpZUfZ45DLDk",
        "outputId": "fabbad0f-b420-469c-829c-bada8b3e1c19"
      },
      "execution_count": null,
      "outputs": [
        {
          "output_type": "stream",
          "name": "stdout",
          "text": [
            "Number of columns with unit 'nM': 12103\n"
          ]
        }
      ]
    },
    {
      "cell_type": "code",
      "source": [
        "# Filter rows that do not have 'nM' as the standard unit\n",
        "df_not_nm = df[df['Standard Units'] != 'nM']\n",
        "\n",
        "# Print the filtered DataFrame\n",
        "print(df_not_nm)"
      ],
      "metadata": {
        "colab": {
          "base_uri": "https://localhost:8080/"
        },
        "id": "PQmmPHHIDvc9",
        "outputId": "24ae536f-8b37-4673-d7f7-9083d0ca4e6f"
      },
      "execution_count": null,
      "outputs": [
        {
          "output_type": "stream",
          "name": "stdout",
          "text": [
            "      Molecule ChEMBL ID  Molecular Weight  #RO5 Violations  AlogP  \\\n",
            "636         CHEMBL237534            341.43              0.0   4.31   \n",
            "3649       CHEMBL1956285            415.34              1.0   5.95   \n",
            "4544        CHEMBL237321            353.46              0.0   3.58   \n",
            "5700       CHEMBL3317856            448.53              0.0   1.09   \n",
            "8495       CHEMBL3317856            448.53              0.0   1.09   \n",
            "10299      CHEMBL4873922            429.50              0.0   3.51   \n",
            "11045       CHEMBL395904            353.46              0.0   3.58   \n",
            "12580      CHEMBL3317856            448.53              0.0   1.09   \n",
            "12811       CHEMBL376488            555.52              2.0   7.13   \n",
            "12812      CHEMBL3262462            375.43              0.0   3.50   \n",
            "13015      CHEMBL4877637            435.53              0.0   3.57   \n",
            "\n",
            "      Standard Type  Standard Value Standard Units  pChEMBL Value  \\\n",
            "636            IC50           10.00            ucm      -1.000000   \n",
            "3649           IC50            0.66        ug.mL-1       0.180456   \n",
            "4544           IC50           10.00            ucm      -1.000000   \n",
            "5700           IC50          588.00        ug.mL-1      -2.769377   \n",
            "8495           IC50          588.00        ug.mL-1      -2.769377   \n",
            "10299          IC50           23.70        ug.mL-1      -1.374748   \n",
            "11045          IC50           10.00            ucm      -1.000000   \n",
            "12580          IC50          588.00        ug.mL-1      -2.769377   \n",
            "12811          IC50            0.20        ug.mL-1       0.698970   \n",
            "12812          IC50           18.30        ug.mL-1      -1.262451   \n",
            "13015          IC50           28.30        ug.mL-1      -1.451786   \n",
            "\n",
            "       Ligand Efficiency BEI  Ligand Efficiency LE  Ligand Efficiency LLE  \\\n",
            "636                12.970272              0.248955               1.519936   \n",
            "3649               12.970272              0.248955               1.519936   \n",
            "4544               12.970272              0.248955               1.519936   \n",
            "5700               12.970272              0.248955               1.519936   \n",
            "8495               12.970272              0.248955               1.519936   \n",
            "10299              12.970272              0.248955               1.519936   \n",
            "11045              12.970272              0.248955               1.519936   \n",
            "12580              12.970272              0.248955               1.519936   \n",
            "12811              12.970272              0.248955               1.519936   \n",
            "12812              12.970272              0.248955               1.519936   \n",
            "13015              12.970272              0.248955               1.519936   \n",
            "\n",
            "       Ligand Efficiency SEI Assay Type BAO Format ID Assay Organism  \\\n",
            "636                11.272179          B   BAO_0000219   Homo sapiens   \n",
            "3649               11.272179          B   BAO_0000019   Homo sapiens   \n",
            "4544               11.272179          B   BAO_0000219   Homo sapiens   \n",
            "5700               11.272179          B   BAO_0000357   Homo sapiens   \n",
            "8495               11.272179          B   BAO_0000219   Homo sapiens   \n",
            "10299              11.272179          B   BAO_0000357   Homo sapiens   \n",
            "11045              11.272179          B   BAO_0000219   Homo sapiens   \n",
            "12580              11.272179          B   BAO_0000357   Homo sapiens   \n",
            "12811              11.272179          B   BAO_0000357   Homo sapiens   \n",
            "12812              11.272179          B   BAO_0000357   Homo sapiens   \n",
            "13015              11.272179          B   BAO_0000357   Homo sapiens   \n",
            "\n",
            "      Target Name     Target Type  Standard Value (M)  NumRotatableBonds  \n",
            "636          HERG  SINGLE PROTEIN        1.000000e-08                4.0  \n",
            "3649         HERG  SINGLE PROTEIN        6.600000e-10                4.0  \n",
            "4544         HERG  SINGLE PROTEIN        1.000000e-08                6.0  \n",
            "5700         HERG  SINGLE PROTEIN        5.880000e-07                6.0  \n",
            "8495         HERG  SINGLE PROTEIN        5.880000e-07                4.0  \n",
            "10299        HERG  SINGLE PROTEIN        2.370000e-08                8.0  \n",
            "11045        HERG  SINGLE PROTEIN        1.000000e-08                7.0  \n",
            "12580        HERG  SINGLE PROTEIN        5.880000e-07                5.0  \n",
            "12811        HERG  SINGLE PROTEIN        2.000000e-10                2.0  \n",
            "12812        HERG  SINGLE PROTEIN        1.830000e-08                5.0  \n",
            "13015        HERG  SINGLE PROTEIN        2.830000e-08                4.0  \n"
          ]
        }
      ]
    },
    {
      "cell_type": "code",
      "source": [
        "# Keep only rows that have 'nM' as the standard unit\n",
        "df = df[df['Standard Units'] == 'nM']\n",
        "\n",
        "# Print the filtered DataFrame\n",
        "print(df)"
      ],
      "metadata": {
        "colab": {
          "base_uri": "https://localhost:8080/"
        },
        "id": "euc9b0kBECHs",
        "outputId": "0c1abe2b-d72e-4e1f-a85f-9a4888e78d17"
      },
      "execution_count": null,
      "outputs": [
        {
          "output_type": "stream",
          "name": "stdout",
          "text": [
            "      Molecule ChEMBL ID  Molecular Weight  #RO5 Violations  AlogP  \\\n",
            "0          CHEMBL2447962            324.90              0.0   3.90   \n",
            "1              CHEMBL473            441.58              0.0   1.98   \n",
            "2               CHEMBL85            410.49              0.0   3.59   \n",
            "3          CHEMBL1818825            429.40              0.0   4.39   \n",
            "4          CHEMBL3233190            577.69              1.0   4.27   \n",
            "...                  ...               ...              ...    ...   \n",
            "13880      CHEMBL4240155            473.62              0.0   4.65   \n",
            "13881      CHEMBL4280239            354.54              1.0   5.08   \n",
            "13882      CHEMBL3823499            398.46              0.0   4.57   \n",
            "13883      CHEMBL4286477            384.51              0.0   4.15   \n",
            "13884      CHEMBL4858983            338.39              0.0   3.27   \n",
            "\n",
            "      Standard Type  Standard Value Standard Units  pChEMBL Value  \\\n",
            "0              IC50       758000.00             nM      -5.879669   \n",
            "1              IC50            5.00             nM       8.300000   \n",
            "2              IC50          150.00             nM       6.820000   \n",
            "3              IC50          720.00             nM       6.140000   \n",
            "4              IC50        80000.00             nM      -4.903090   \n",
            "...             ...             ...            ...            ...   \n",
            "13880          IC50        50118.72             nM      -4.700000   \n",
            "13881          IC50        16000.00             nM       4.800000   \n",
            "13882          IC50         7445.00             nM       5.130000   \n",
            "13883          IC50         8635.00             nM       5.060000   \n",
            "13884          IC50          130.00             nM       6.890000   \n",
            "\n",
            "       Ligand Efficiency BEI  Ligand Efficiency LE  Ligand Efficiency LLE  \\\n",
            "0                  12.970272              0.248955               1.519936   \n",
            "1                  12.970272              0.248955               1.519936   \n",
            "2                  12.970272              0.248955               1.519936   \n",
            "3                  14.310000              0.270000               1.750000   \n",
            "4                  12.970272              0.248955               1.519936   \n",
            "...                      ...                   ...                    ...   \n",
            "13880              12.970272              0.248955               1.519936   \n",
            "13881              13.530000              0.250000              -0.280000   \n",
            "13882              12.870000              0.250000               0.560000   \n",
            "13883              13.170000              0.260000               0.910000   \n",
            "13884              28.420000              0.520000               3.620000   \n",
            "\n",
            "       Ligand Efficiency SEI Assay Type BAO Format ID Assay Organism  \\\n",
            "0                  11.272179          B   BAO_0000219   Homo sapiens   \n",
            "1                  11.272179          F   BAO_0000019        Unknown   \n",
            "2                  11.272179          F   BAO_0000019        Unknown   \n",
            "3                   9.170000          B   BAO_0000357   Homo sapiens   \n",
            "4                  11.272179          B   BAO_0000357   Homo sapiens   \n",
            "...                      ...        ...           ...            ...   \n",
            "13880              11.272179          B   BAO_0000219   Homo sapiens   \n",
            "13881              27.560000          B   BAO_0000357   Homo sapiens   \n",
            "13882               5.840000          B   BAO_0000219   Homo sapiens   \n",
            "13883               5.770000          B   BAO_0000219   Homo sapiens   \n",
            "13884              11.270000          B   BAO_0000219   Homo sapiens   \n",
            "\n",
            "      Target Name     Target Type  Standard Value (M)  NumRotatableBonds  \n",
            "0            HERG  SINGLE PROTEIN        7.580000e-04                5.0  \n",
            "1            HERG  SINGLE PROTEIN        5.000000e-09               11.0  \n",
            "2            HERG  SINGLE PROTEIN        1.500000e-07                4.0  \n",
            "3            HERG  SINGLE PROTEIN        7.200000e-07                6.0  \n",
            "4            HERG  SINGLE PROTEIN        8.000000e-05                7.0  \n",
            "...           ...             ...                 ...                ...  \n",
            "13880        HERG  SINGLE PROTEIN        5.011872e-05               14.0  \n",
            "13881        HERG  SINGLE PROTEIN        1.600000e-05               13.0  \n",
            "13882        HERG  SINGLE PROTEIN        7.445000e-06               10.0  \n",
            "13883        HERG  SINGLE PROTEIN        8.635000e-06                5.0  \n",
            "13884        HERG  SINGLE PROTEIN        1.300000e-07                3.0  \n",
            "\n",
            "[12103 rows x 19 columns]\n"
          ]
        }
      ]
    },
    {
      "cell_type": "code",
      "source": [
        "df.info()"
      ],
      "metadata": {
        "colab": {
          "base_uri": "https://localhost:8080/"
        },
        "id": "8ZzPhpdNEGgo",
        "outputId": "f85b3967-41e0-463b-ee5c-6f0b0de615bf"
      },
      "execution_count": null,
      "outputs": [
        {
          "output_type": "stream",
          "name": "stdout",
          "text": [
            "<class 'pandas.core.frame.DataFrame'>\n",
            "Index: 12103 entries, 0 to 13884\n",
            "Data columns (total 19 columns):\n",
            " #   Column                 Non-Null Count  Dtype  \n",
            "---  ------                 --------------  -----  \n",
            " 0   Molecule ChEMBL ID     12103 non-null  object \n",
            " 1   Molecular Weight       12103 non-null  float64\n",
            " 2   #RO5 Violations        12103 non-null  float64\n",
            " 3   AlogP                  12103 non-null  float64\n",
            " 4   Standard Type          12103 non-null  object \n",
            " 5   Standard Value         12103 non-null  float64\n",
            " 6   Standard Units         12103 non-null  object \n",
            " 7   pChEMBL Value          12103 non-null  float64\n",
            " 8   Ligand Efficiency BEI  12103 non-null  float64\n",
            " 9   Ligand Efficiency LE   12103 non-null  float64\n",
            " 10  Ligand Efficiency LLE  12103 non-null  float64\n",
            " 11  Ligand Efficiency SEI  12103 non-null  float64\n",
            " 12  Assay Type             12103 non-null  object \n",
            " 13  BAO Format ID          12103 non-null  object \n",
            " 14  Assay Organism         12103 non-null  object \n",
            " 15  Target Name            12103 non-null  object \n",
            " 16  Target Type            12103 non-null  object \n",
            " 17  Standard Value (M)     12103 non-null  float64\n",
            " 18  NumRotatableBonds      12103 non-null  float64\n",
            "dtypes: float64(11), object(8)\n",
            "memory usage: 1.8+ MB\n"
          ]
        }
      ]
    },
    {
      "cell_type": "markdown",
      "source": [
        "# **Model Development**"
      ],
      "metadata": {
        "id": "DIeW0NerjdNp"
      }
    },
    {
      "cell_type": "markdown",
      "source": [
        "\n",
        "\n",
        "*   Algorithms required\n",
        "\n"
      ],
      "metadata": {
        "id": "1QlDQSxAknjC"
      }
    },
    {
      "cell_type": "code",
      "source": [
        "# Importing necessary libraries\n",
        "from sklearn.model_selection import train_test_split\n",
        "from sklearn.preprocessing import StandardScaler, OneHotEncoder\n",
        "from sklearn.compose import ColumnTransformer\n",
        "from sklearn.pipeline import Pipeline\n",
        "from sklearn.metrics import mean_absolute_error, mean_squared_error, r2_score\n",
        "from sklearn.ensemble import GradientBoostingRegressor, RandomForestRegressor, ExtraTreesRegressor, AdaBoostRegressor\n",
        "from sklearn.neighbors import KNeighborsRegressor\n",
        "from sklearn.tree import DecisionTreeRegressor\n",
        "from sklearn.neural_network import MLPRegressor\n",
        "from sklearn.ensemble import BaggingRegressor, VotingRegressor, HistGradientBoostingRegressor, StackingRegressor, GradientBoostingRegressor\n",
        "from sklearn.tree import DecisionTreeRegressor\n",
        "from sklearn.svm import SVR\n",
        "from sklearn.linear_model import LinearRegression"
      ],
      "metadata": {
        "id": "C5vn-2x4YAQE"
      },
      "execution_count": null,
      "outputs": []
    },
    {
      "cell_type": "code",
      "source": [
        "# Define features and target\n",
        "features = ['Molecular Weight', '#RO5 Violations', 'AlogP',\n",
        "             'Ligand Efficiency BEI', 'Ligand Efficiency LE',\n",
        "             'Ligand Efficiency LLE', 'Ligand Efficiency SEI',\n",
        "             'Assay Type', 'Assay Organism', 'Target Name',\n",
        "             'Target Type', 'NumRotatableBonds', 'BAO Format ID']\n",
        "target = 'pChEMBL Value'\n",
        "\n",
        "X = df[features]\n",
        "y = df[target]\n",
        "\n",
        "# Define numerical and categorical features\n",
        "numerical_features = ['Molecular Weight', '#RO5 Violations', 'AlogP',\n",
        "                       'Ligand Efficiency BEI', 'Ligand Efficiency LE',\n",
        "                       'Ligand Efficiency LLE', 'Ligand Efficiency SEI',\n",
        "                       'NumRotatableBonds']\n",
        "categorical_features = ['Assay Type', 'Assay Organism', 'Target Name', 'Target Type', 'BAO Format ID']\n",
        "\n",
        "# Preprocessing for numerical features\n",
        "numerical_transformer = StandardScaler()\n",
        "\n",
        "# Preprocessing for categorical features\n",
        "categorical_transformer = OneHotEncoder(handle_unknown='ignore')\n",
        "\n",
        "# Combine preprocessing steps\n",
        "preprocessor = ColumnTransformer(\n",
        "    transformers=[\n",
        "        ('num', numerical_transformer, numerical_features),\n",
        "        ('cat', categorical_transformer, categorical_features)\n",
        "    ])"
      ],
      "metadata": {
        "id": "AiZKWoVIc9U3"
      },
      "execution_count": null,
      "outputs": []
    },
    {
      "cell_type": "code",
      "source": [
        "models = {\n",
        "    \"Gradient Boosting Regressor\": GradientBoostingRegressor(n_estimators=100, random_state=0),\n",
        "    \"Random Forest Regressor\": RandomForestRegressor(n_estimators=100, random_state=0),\n",
        "    \"K Neighbors Regressor\": KNeighborsRegressor(n_neighbors=5),\n",
        "    \"Decision Trees Regressor\": DecisionTreeRegressor(random_state=42),\n",
        "    \"ADA Boost Regressor\": AdaBoostRegressor(n_estimators=100, random_state=42),\n",
        "    \"Extra Trees Regressor\": ExtraTreesRegressor(n_estimators=100, random_state=42),\n",
        "    \"Bagging Regressor\": BaggingRegressor(estimator=DecisionTreeRegressor(), n_estimators=100, random_state=0),\n",
        "    \"Hist Gradient Boosting Regressor\": HistGradientBoostingRegressor(random_state=0),\n",
        "    \"Stacking Regressor\": StackingRegressor(estimators=[\n",
        "        ('rf', RandomForestRegressor(n_estimators=100, random_state=0)),\n",
        "        ('svr', SVR())\n",
        "    ], final_estimator=GradientBoostingRegressor(n_estimators=100, random_state=0)),\n",
        "    \"Tuned Gradient Boosting Regressor\": GradientBoostingRegressor(\n",
        "        n_estimators=200, learning_rate=0.05, max_depth=3, random_state=0)\n",
        "}"
      ],
      "metadata": {
        "id": "1C6y8mm9dNMT"
      },
      "execution_count": null,
      "outputs": []
    },
    {
      "cell_type": "markdown",
      "source": [
        "\n",
        "\n",
        "*   Training and Testing\n",
        "\n"
      ],
      "metadata": {
        "id": "NHospQCgk2VY"
      }
    },
    {
      "cell_type": "code",
      "source": [
        "# Split data into training and test sets\n",
        "X_train, X_test, y_train, y_test = train_test_split(X, y, test_size=0.2, random_state=0)"
      ],
      "metadata": {
        "id": "HnpDnFooeP2Q"
      },
      "execution_count": null,
      "outputs": []
    },
    {
      "cell_type": "markdown",
      "source": [
        "\n",
        "\n",
        "*   Predicting and Evaluating\n"
      ],
      "metadata": {
        "id": "htrKVWNClBHx"
      }
    },
    {
      "cell_type": "code",
      "source": [
        "# Now you can loop through these models as before to train and evaluate them\n",
        "for model_name, model in models.items():\n",
        "    pipeline = Pipeline(steps=[\n",
        "        ('preprocessor', preprocessor),\n",
        "        ('regressor', model)\n",
        "    ])\n",
        "\n",
        "    # Train the model\n",
        "    pipeline.fit(X_train, y_train)\n",
        "\n",
        "    # Make predictions\n",
        "    y_pred = pipeline.predict(X_test)\n",
        "\n",
        "    # Evaluate the model\n",
        "    # mse = mean_squared_error(y_test, y_pred)\n",
        "\n",
        "    mae = mean_absolute_error(y_test, y_pred)\n",
        "    mse = mean_squared_error(y_test, y_pred)\n",
        "    r2 = r2_score(y_test, y_pred)\n",
        "    rmse = np.sqrt(mean_squared_error(y_test, y_pred))\n",
        "    mape = np.mean(np.abs((y_test - y_pred) / y_test)) * 100\n",
        "    residuals = y_test - y_pred\n",
        "    rse = np.sqrt(np.sum(residuals**2) / (len(y_test) - X.shape[1] - 1))\n",
        "\n",
        "    n = len(y_test)\n",
        "    p = X.shape[1]\n",
        "    adjusted_r2 = 1 - (1 - r2) * (n - 1) / (n - p - 1)\n",
        "\n",
        "    print(model_name)\n",
        "\n",
        "    print(f'Mean Absolute Error: {mae}')\n",
        "    print(f'Mean Squared Error: {mse}')\n",
        "    print(f'R^2 Score: {r2}')\n",
        "    print(f\"Root Mean Squared Error: {rmse}\")\n",
        "    print(f\"Adjusted R² Score: {adjusted_r2}\")\n",
        "    print(f\"Mean Absolute Percentage Error: {mape}%\")\n",
        "    print(f\"Residual Standard Error: {rse}\")\n",
        "    print(\" \")"
      ],
      "metadata": {
        "colab": {
          "base_uri": "https://localhost:8080/"
        },
        "id": "fYuPNHqOd6aY",
        "outputId": "74c4f6e3-6450-4536-aab9-15f14a3d9a8a"
      },
      "execution_count": null,
      "outputs": [
        {
          "output_type": "stream",
          "name": "stdout",
          "text": [
            "Gradient Boosting Regressor\n",
            "Mean Absolute Error: 0.44657179232123445\n",
            "Mean Squared Error: 1.1298598856872368\n",
            "R^2 Score: 0.9456534508273124\n",
            "Root Mean Squared Error: 1.0629486750014023\n",
            "Adjusted R² Score: 0.9453599297889889\n",
            "Mean Absolute Percentage Error: 10.083606490700388%\n",
            "Residual Standard Error: 1.0660354438829838\n",
            " \n",
            "Random Forest Regressor\n",
            "Mean Absolute Error: 0.32180464857592206\n",
            "Mean Squared Error: 0.9852820134742222\n",
            "R^2 Score: 0.9526076834193723\n",
            "Root Mean Squared Error: 0.9926137282317942\n",
            "Adjusted R² Score: 0.9523517215932202\n",
            "Mean Absolute Percentage Error: 7.603553598924146%\n",
            "Residual Standard Error: 0.9954962466823981\n",
            " \n",
            "K Neighbors Regressor\n",
            "Mean Absolute Error: 0.8206155902812773\n",
            "Mean Squared Error: 3.6719631487418\n",
            "R^2 Score: 0.8233776343851598\n",
            "Root Mean Squared Error: 1.9162367152159987\n",
            "Adjusted R² Score: 0.8224237121778507\n",
            "Mean Absolute Percentage Error: 17.07342513408727%\n",
            "Residual Standard Error: 1.921801405215979\n",
            " \n",
            "Decision Trees Regressor\n",
            "Mean Absolute Error: 0.37166146159858304\n",
            "Mean Squared Error: 1.6637753048745474\n",
            "R^2 Score: 0.9199719827528264\n",
            "Root Mean Squared Error: 1.2898741430366558\n",
            "Adjusted R² Score: 0.9195397583140175\n",
            "Mean Absolute Percentage Error: 8.756759407640004%\n",
            "Residual Standard Error: 1.293619896203785\n",
            " \n",
            "ADA Boost Regressor\n",
            "Mean Absolute Error: 0.7560638669101051\n",
            "Mean Squared Error: 2.0592772779136026\n",
            "R^2 Score: 0.9009482368017184\n",
            "Root Mean Squared Error: 1.4350182151852995\n",
            "Adjusted R² Score: 0.9004132667470538\n",
            "Mean Absolute Percentage Error: 15.601582445031662%\n",
            "Residual Standard Error: 1.4391854620856552\n",
            " \n",
            "Extra Trees Regressor\n",
            "Mean Absolute Error: 0.32200499782731223\n",
            "Mean Squared Error: 1.1247598889226889\n",
            "R^2 Score: 0.9458987619747\n",
            "Root Mean Squared Error: 1.0605469762922757\n",
            "Adjusted R² Score: 0.9456065658407868\n",
            "Mean Absolute Percentage Error: 7.65821052610619%\n",
            "Residual Standard Error: 1.0636267707177873\n",
            " \n",
            "Bagging Regressor\n",
            "Mean Absolute Error: 0.3211089357976702\n",
            "Mean Squared Error: 0.9817430973963409\n",
            "R^2 Score: 0.9527779061868862\n",
            "Root Mean Squared Error: 0.9908294996599268\n",
            "Adjusted R² Score: 0.9525228637192624\n",
            "Mean Absolute Percentage Error: 7.60143998186347%\n",
            "Residual Standard Error: 0.9937068367679477\n",
            " \n",
            "Hist Gradient Boosting Regressor\n",
            "Mean Absolute Error: 0.3726688688106184\n",
            "Mean Squared Error: 1.0085517211720039\n",
            "R^2 Score: 0.9514884045338649\n",
            "Root Mean Squared Error: 1.0042667579741968\n",
            "Adjusted R² Score: 0.9512263975787092\n",
            "Mean Absolute Percentage Error: 8.683853360988543%\n",
            "Residual Standard Error: 1.0071831164496587\n",
            " \n",
            "Stacking Regressor\n",
            "Mean Absolute Error: 0.3477272270969546\n",
            "Mean Squared Error: 1.102871670795747\n",
            "R^2 Score: 0.9469515908588892\n",
            "Root Mean Squared Error: 1.0501769711794995\n",
            "Adjusted R² Score: 0.9466650809632372\n",
            "Mean Absolute Percentage Error: 8.23452519936537%\n",
            "Residual Standard Error: 1.0532266514425526\n",
            " \n",
            "Tuned Gradient Boosting Regressor\n",
            "Mean Absolute Error: 0.4454225322907444\n",
            "Mean Squared Error: 1.1314649069477865\n",
            "R^2 Score: 0.9455762488946086\n",
            "Root Mean Squared Error: 1.0637033923739203\n",
            "Adjusted R² Score: 0.9452823108952857\n",
            "Mean Absolute Percentage Error: 10.055008811683525%\n",
            "Residual Standard Error: 1.0667923529305607\n",
            " \n"
          ]
        }
      ]
    },
    {
      "cell_type": "markdown",
      "source": [
        "# **Model Performance**"
      ],
      "metadata": {
        "id": "hPojVXP2lSeP"
      }
    },
    {
      "cell_type": "code",
      "source": [
        "import matplotlib.pyplot as plt\n",
        "from sklearn.model_selection import learning_curve\n",
        "\n",
        "pipeline = Pipeline(steps=[\n",
        "    ('preprocessor', preprocessor),\n",
        "    ('model', RandomForestRegressor(n_estimators=100, random_state=42))\n",
        "])\n",
        "\n",
        "train_sizes, train_scores, val_scores = learning_curve(\n",
        "    pipeline, X, y, cv=5, scoring='neg_mean_squared_error',\n",
        "    train_sizes=np.linspace(0.1, 1.0, 10), n_jobs=-1\n",
        ")\n",
        "\n",
        "train_scores_mean = -train_scores.mean(axis=1)\n",
        "train_scores_std = train_scores.std(axis=1)\n",
        "val_scores_mean = -val_scores.mean(axis=1)\n",
        "val_scores_std = val_scores.std(axis=1)\n",
        "\n",
        "plt.figure(figsize=(10, 6))\n",
        "plt.plot(train_sizes, train_scores_mean, 'o-', color='blue', label='Training Error')\n",
        "plt.plot(train_sizes, val_scores_mean, 'o-', color='green', label='Validation Error')\n",
        "\n",
        "plt.fill_between(train_sizes,\n",
        "                 train_scores_mean - train_scores_std,\n",
        "                 train_scores_mean + train_scores_std,\n",
        "                 color='blue', alpha=0.2)\n",
        "plt.fill_between(train_sizes,\n",
        "                 val_scores_mean - val_scores_std,\n",
        "                 val_scores_mean + val_scores_std,\n",
        "                 color='green', alpha=0.2)\n",
        "\n",
        "plt.title('Learning Curve for RandomForestRegressor')\n",
        "plt.xlabel('Training Set Size')\n",
        "plt.ylabel('Mean Squared Error')\n",
        "plt.legend(loc='best')\n",
        "plt.grid()\n",
        "plt.show()"
      ],
      "metadata": {
        "colab": {
          "base_uri": "https://localhost:8080/",
          "height": 564
        },
        "id": "lgldb13afun7",
        "outputId": "eb230260-fd83-4a6f-db75-3fa21ae97e40"
      },
      "execution_count": null,
      "outputs": [
        {
          "output_type": "display_data",
          "data": {
            "text/plain": [
              "<Figure size 1000x600 with 1 Axes>"
            ],
            "image/png": "[encoded data removed]"
          },
          "metadata": {}
        }
      ]
    },
    {
      "cell_type": "code",
      "source": [
        "# Train the model\n",
        "pipeline.fit(X_train, y_train)\n",
        "\n",
        "# Make predictions\n",
        "y_pred = pipeline.predict(X_test)\n",
        "\n",
        "\n",
        "# Evaluate the model\n",
        "# mse = mean_squared_error(y_test, y_pred)\n",
        "mae = mean_absolute_error(y_test, y_pred)\n",
        "mse = mean_squared_error(y_test, y_pred)\n",
        "r2 = r2_score(y_test, y_pred)\n",
        "rmse = np.sqrt(mean_squared_error(y_test, y_pred))\n",
        "mape = np.mean(np.abs((y_test - y_pred) / y_test)) * 100\n",
        "residuals = y_test - y_pred\n",
        "rse = np.sqrt(np.sum(residuals**2) / (len(y_test) - X.shape[1] - 1))\n",
        "\n",
        "n = len(y_test)\n",
        "p = X.shape[1]\n",
        "adjusted_r2 = 1 - (1 - r2) * (n - 1) / (n - p - 1)\n",
        "\n",
        "# Print the evaluation metrics\n",
        "print(\"Mean Absolute Error:\", mae)\n",
        "print(\"Mean Squared Error:\", mse)\n",
        "print(\"R-squared:\", r2)\n",
        "print(\"Adjusted R-squared:\", adjusted_r2)\n",
        "print(\"Root Mean Squared Error:\", rmse)\n",
        "print(\"Mean Absolute Percentage Error:\", mape)\n",
        "print(\"Residual Standard Error:\", rse)\n",
        "\n",
        "# Create the scatter plot\n",
        "plt.figure(figsize=(10, 6))\n",
        "plt.scatter(y_test, y_pred, alpha=0.5, color='blue', label='Predicted vs Actual')\n",
        "\n",
        "# Add a line of equality (45-degree line)\n",
        "min_val = min(y_test.min(), y_pred.min())\n",
        "max_val = max(y_test.max(), y_pred.max())\n",
        "plt.plot([min_val, max_val], [min_val, max_val], color='red', linestyle='--', label='Line of Equality')\n",
        "\n",
        "# Add labels and title\n",
        "plt.xlabel('Actual pChEMBL Value')\n",
        "plt.ylabel('Predicted pChEMBL Value')\n",
        "plt.title('Predicted vs. Actual pChEMBL Values')\n",
        "plt.legend()\n",
        "plt.grid(True)\n",
        "plt.show()"
      ],
      "metadata": {
        "colab": {
          "base_uri": "https://localhost:8080/",
          "height": 685
        },
        "id": "7zanZUu4hG5E",
        "outputId": "0cdd8df9-aecb-4750-b5f6-9e407a990e6c"
      },
      "execution_count": null,
      "outputs": [
        {
          "output_type": "stream",
          "name": "stdout",
          "text": [
            "Mean Absolute Error: 0.32582395649205687\n",
            "Mean Squared Error: 1.0089567313228154\n",
            "R-squared: 0.9514689234421336\n",
            "Adjusted R-squared: 0.9512068112712768\n",
            "Root Mean Squared Error: 1.00446838244059\n",
            "Mean Absolute Percentage Error: 7.681473578495682\n",
            "Residual Standard Error: 1.0073853264270398\n"
          ]
        },
        {
          "output_type": "display_data",
          "data": {
            "text/plain": [
              "<Figure size 1000x600 with 1 Axes>"
            ],
            "image/png": "[encoded data removed]"
          },
          "metadata": {}
        }
      ]
    },
    {
      "cell_type": "code",
      "source": [
        "import seaborn as sns\n",
        "\n",
        "# Assuming y_true are the actual values and y_pred are the predicted values\n",
        "residuals = y_test - y_pred\n",
        "\n",
        "plt.figure(figsize=(10, 6))\n",
        "sns.scatterplot(x=y_pred, y=residuals)\n",
        "plt.axhline(0, color='red', linestyle='--')\n",
        "plt.xlabel('Predicted Values')\n",
        "plt.ylabel('Residuals')\n",
        "plt.title('Residuals vs. Predicted Values')\n",
        "plt.show()"
      ],
      "metadata": {
        "colab": {
          "base_uri": "https://localhost:8080/",
          "height": 564
        },
        "id": "1rYnU4qwigHN",
        "outputId": "827d6989-ae9f-4b4e-f626-950bfbaadd9e"
      },
      "execution_count": null,
      "outputs": [
        {
          "output_type": "display_data",
          "data": {
            "text/plain": [
              "<Figure size 1000x600 with 1 Axes>"
            ],
            "image/png": "[encoded data removed]"
          },
          "metadata": {}
        }
      ]
    },
    {
      "cell_type": "code",
      "source": [
        "plt.figure(figsize=(10, 6))\n",
        "sns.scatterplot(x=y_test, y=residuals)\n",
        "plt.axhline(0, color='red', linestyle='--')\n",
        "plt.xlabel('Actual Values')\n",
        "plt.ylabel('Residuals')\n",
        "plt.title('Residuals vs. Actual Values')\n",
        "plt.show()"
      ],
      "metadata": {
        "colab": {
          "base_uri": "https://localhost:8080/",
          "height": 564
        },
        "id": "ekr4gmWsirGi",
        "outputId": "6a4022f4-f670-4406-e727-517721627257"
      },
      "execution_count": null,
      "outputs": [
        {
          "output_type": "display_data",
          "data": {
            "text/plain": [
              "<Figure size 1000x600 with 1 Axes>"
            ],
            "image/png": "[encoded data removed]"
          },
          "metadata": {}
        }
      ]
    },
    {
      "cell_type": "code",
      "source": [
        "plt.figure(figsize=(10, 6))\n",
        "sns.histplot(residuals, kde=True)\n",
        "plt.xlabel('Residuals')\n",
        "plt.title('Residuals Histogram')\n",
        "plt.show()"
      ],
      "metadata": {
        "colab": {
          "base_uri": "https://localhost:8080/",
          "height": 564
        },
        "id": "_zPWQcXQixsL",
        "outputId": "7a0fbcf6-81a5-43e1-a876-179cbb2060d3"
      },
      "execution_count": null,
      "outputs": [
        {
          "output_type": "display_data",
          "data": {
            "text/plain": [
              "<Figure size 1000x600 with 1 Axes>"
            ],
            "image/png": "[encoded data removed]"
          },
          "metadata": {}
        }
      ]
    },
    {
      "cell_type": "code",
      "source": [
        "import scipy.stats as stats\n",
        "\n",
        "plt.figure(figsize=(10, 6))\n",
        "stats.probplot(residuals, dist=\"norm\", plot=plt)\n",
        "plt.title('Q-Q Plot')\n",
        "plt.show()"
      ],
      "metadata": {
        "colab": {
          "base_uri": "https://localhost:8080/",
          "height": 564
        },
        "id": "3KN__cdLi0s_",
        "outputId": "7ec5f5f5-09c7-49df-820c-96615514172c"
      },
      "execution_count": null,
      "outputs": [
        {
          "output_type": "display_data",
          "data": {
            "text/plain": [
              "<Figure size 1000x600 with 1 Axes>"
            ],
            "image/png": "[encoded data removed]"
          },
          "metadata": {}
        }
      ]
    }
  ]
}